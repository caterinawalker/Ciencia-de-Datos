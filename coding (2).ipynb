{
 "cells": [
  {
   "cell_type": "markdown",
   "id": "f0dc9ca5-63b2-4b80-866d-687d82f8885d",
   "metadata": {},
   "source": [
    "**Punto 1** \n",
    "\n",
    "El INDEC identifica a las personas pobres en Argentina a partir de la medición de la pobreza por ingresos. El procedimiento se basa en comparar los ingresos del hogar con el costo de la Canasta Básica Total (CBT):\n",
    "\n",
    "- Canasta Básica Alimentaria (CBA): define la línea de indigencia. Incluye solo alimentos que cubren un umbral mínimo de necesidades energéticas y proteicas. Un hogar es indigente si sus ingresos no alcanzan para cubrir la CBA.\n",
    "\n",
    "- Canasta Básica Total (CBT): amplía la CBA incorporando bienes y servicios no alimentarios (vestimenta, transporte, educación, salud, etc.).Un hogar es pobre no indigente si sus ingresos superan la CBA pero no alcanzan la CBT."
   ]
  },
  {
   "cell_type": "markdown",
   "id": "26b13782-3761-4c55-8594-bd0c61c458e1",
   "metadata": {},
   "source": [
    "**Punto 2**"
   ]
  },
  {
   "cell_type": "code",
   "execution_count": 1,
   "id": "9cd92b6c-4db8-4add-896e-29ec65d46f80",
   "metadata": {},
   "outputs": [],
   "source": [
    "import pandas as pd\n",
    "import os"
   ]
  },
  {
   "cell_type": "code",
   "execution_count": 2,
   "id": "f6722784",
   "metadata": {},
   "outputs": [
    {
     "name": "stdout",
     "output_type": "stream",
     "text": [
      "                          CODUSU  ANO4  TRIMESTRE  NRO_HOGAR  COMPONENTE  H15  \\\n",
      "0  TQRMNOVQVHJOLOCDEFKID00875778  2025          1          1           2    1   \n",
      "1  TQRMNOVQVHJOLOCDEFKID00875778  2025          1          1           3    0   \n",
      "2  TQRMNOVQVHJOLOCDEFKID00875778  2025          1          1           4    0   \n",
      "3  TQRMNOVQVHJOLOCDEFKID00875778  2025          1          1           5    0   \n",
      "4  TQRMNOUPQHLOLOCDEFKID00851757  2025          1          1           1    1   \n",
      "\n",
      "   REGION MAS_500  AGLOMERADO  PONDERA  ...  V21_03_M  V22_01_M V22_02_M  \\\n",
      "0      43       S           4      927  ...         0         0        0   \n",
      "1      43       S           4      927  ...         0         0        0   \n",
      "2      43       S           4      927  ...         0         0        0   \n",
      "3      43       S           4      927  ...         0         0        0   \n",
      "4      43       S           4     1294  ...         0         0        0   \n",
      "\n",
      "   V22_03_M  P_DECCF  P_RDECCF  P_GDECCF  P_PDECCF  P_IDECCF  P_ADECCF  \n",
      "0         0      3.0       2.0       3.0       NaN       3.0       2.0  \n",
      "1         0      3.0       2.0       3.0       NaN       3.0       2.0  \n",
      "2         0      3.0       2.0       3.0       NaN       3.0       2.0  \n",
      "3         0      3.0       2.0       3.0       NaN       3.0       2.0  \n",
      "4         0      3.0       3.0       3.0       NaN       3.0       3.0  \n",
      "\n",
      "[5 rows x 235 columns]\n"
     ]
    }
   ],
   "source": [
    "#Cambié a como estaba porque no me leía el archivo la verga esta\n",
    "os.chdir(\"C:/Users/usuario/Documents/Ciencia-de-Datos\")# reemplazar x la ruta de cada uno\n",
    "df = pd.read_excel(\"usu_individual_T125.xlsx\") \n",
    "\n",
    "print(df.head())"
   ]
  },
  {
   "cell_type": "code",
   "execution_count": 3,
   "id": "212258b0",
   "metadata": {},
   "outputs": [
    {
     "name": "stdout",
     "output_type": "stream",
     "text": [
      "     CODUSU  nro_hogar componente  h15    ano4       trimestre  \\\n",
      "0  125098          1.0        1.0   Sí  2005.0  1er. Trimestre   \n",
      "1  125188          1.0        1.0   Sí  2005.0  1er. Trimestre   \n",
      "2  125188          1.0        2.0   Sí  2005.0  1er. Trimestre   \n",
      "3  125188          1.0        3.0  0.0  2005.0  1er. Trimestre   \n",
      "4  125242          1.0        1.0   Sí  2005.0  1er. Trimestre   \n",
      "\n",
      "              region mas_500              aglomerado  pondera  ... deccfr  \\\n",
      "0  Gran Buenos Aires       S  Ciudad de Buenos Aires   1017.0  ...     08   \n",
      "1  Gran Buenos Aires       S  Ciudad de Buenos Aires   1062.0  ...     02   \n",
      "2  Gran Buenos Aires       S  Ciudad de Buenos Aires   1062.0  ...     02   \n",
      "3  Gran Buenos Aires       S  Ciudad de Buenos Aires   1062.0  ...     02   \n",
      "4  Gran Buenos Aires       S  Ciudad de Buenos Aires   1103.0  ...     09   \n",
      "\n",
      "  ideccfr rdeccfr gdeccfr pdeccfr adeccfr pj1_1 pj2_1 pj3_1 idimpp  \n",
      "0              07      08              05   0.0   0.0   0.0  00000  \n",
      "1              02      02              01   0.0   0.0   0.0  40020  \n",
      "2              02      02              01   0.0   0.0   0.0  00000  \n",
      "3              02      02              01   0.0   0.0   0.0  00000  \n",
      "4              09      09              07   0.0   0.0   0.0  00000  \n",
      "\n",
      "[5 rows x 176 columns]\n"
     ]
    }
   ],
   "source": [
    "statta = pd.read_stata(\"Individual_t105.dta\")\n",
    "print(statta.head())\n"
   ]
  },
  {
   "cell_type": "code",
   "execution_count": 4,
   "id": "be2fb037",
   "metadata": {},
   "outputs": [
    {
     "name": "stdout",
     "output_type": "stream",
     "text": [
      "Index(['CODUSU', 'nro_hogar', 'componente', 'h15', 'ano4', 'trimestre',\n",
      "       'region', 'mas_500', 'aglomerado', 'pondera',\n",
      "       ...\n",
      "       'deccfr', 'ideccfr', 'rdeccfr', 'gdeccfr', 'pdeccfr', 'adeccfr',\n",
      "       'pj1_1', 'pj2_1', 'pj3_1', 'idimpp'],\n",
      "      dtype='object', length=176)\n",
      "(47030, 176)\n",
      "['Gran Buenos Aires', 'NOA', 'NEA', 'Cuyo', 'Pampeana', 'Patagónica']\n",
      "Categories (6, object): ['Gran Buenos Aires' < 'NOA' < 'NEA' < 'Cuyo' < 'Pampeana' < 'Patagónica']\n"
     ]
    }
   ],
   "source": [
    "print(statta.columns)  # Mostrar las columnas del DataFrame\n",
    "print(statta.shape)    # Mostrar la forma del DataFrame (filas, columnas)\n",
    "print(statta[\"region\"].unique())\n"
   ]
  },
  {
   "cell_type": "code",
   "execution_count": 5,
   "id": "c643b218",
   "metadata": {},
   "outputs": [
    {
     "name": "stdout",
     "output_type": "stream",
     "text": [
      "Index(['CODUSU', 'ANO4', 'TRIMESTRE', 'NRO_HOGAR', 'COMPONENTE', 'H15',\n",
      "       'REGION', 'MAS_500', 'AGLOMERADO', 'PONDERA',\n",
      "       ...\n",
      "       'V21_03_M', 'V22_01_M', 'V22_02_M', 'V22_03_M', 'P_DECCF', 'P_RDECCF',\n",
      "       'P_GDECCF', 'P_PDECCF', 'P_IDECCF', 'P_ADECCF'],\n",
      "      dtype='object', length=235)\n",
      "(45425, 235)\n",
      "[43 41 42 40 44  1]\n"
     ]
    }
   ],
   "source": [
    "print(df.columns)  # Mostrar las columnas del DataFrame\n",
    "print(df.shape)    # Mostrar la forma del DataFrame (filas, columnas)\n",
    "print(df[\"REGION\"].unique()) \n",
    "#43 es pampeana\n"
   ]
  },
  {
   "cell_type": "code",
   "execution_count": 6,
   "id": "64c5aadb",
   "metadata": {},
   "outputs": [
    {
     "name": "stdout",
     "output_type": "stream",
     "text": [
      "                          CODUSU  ANO4  TRIMESTRE  NRO_HOGAR  COMPONENTE  H15  \\\n",
      "0  TQRMNOVQVHJOLOCDEFKID00875778  2025          1          1           2    1   \n",
      "1  TQRMNOVQVHJOLOCDEFKID00875778  2025          1          1           3    0   \n",
      "2  TQRMNOVQVHJOLOCDEFKID00875778  2025          1          1           4    0   \n",
      "3  TQRMNOVQVHJOLOCDEFKID00875778  2025          1          1           5    0   \n",
      "4  TQRMNOUPQHLOLOCDEFKID00851757  2025          1          1           1    1   \n",
      "\n",
      "   REGION MAS_500  AGLOMERADO  PONDERA  ...  V21_03_M  V22_01_M V22_02_M  \\\n",
      "0      43       S           4      927  ...         0         0        0   \n",
      "1      43       S           4      927  ...         0         0        0   \n",
      "2      43       S           4      927  ...         0         0        0   \n",
      "3      43       S           4      927  ...         0         0        0   \n",
      "4      43       S           4     1294  ...         0         0        0   \n",
      "\n",
      "   V22_03_M  P_DECCF  P_RDECCF  P_GDECCF  P_PDECCF  P_IDECCF  P_ADECCF  \n",
      "0         0      3.0       2.0       3.0       NaN       3.0       2.0  \n",
      "1         0      3.0       2.0       3.0       NaN       3.0       2.0  \n",
      "2         0      3.0       2.0       3.0       NaN       3.0       2.0  \n",
      "3         0      3.0       2.0       3.0       NaN       3.0       2.0  \n",
      "4         0      3.0       3.0       3.0       NaN       3.0       3.0  \n",
      "\n",
      "[5 rows x 235 columns]\n",
      "         CODUSU  nro_hogar componente  h15    ano4       trimestre    region  \\\n",
      "29150  125082          1.0        1.0   Sí  2005.0  1er. Trimestre  Pampeana   \n",
      "29151  125082          1.0        2.0   Sí  2005.0  1er. Trimestre  Pampeana   \n",
      "29152  125082          1.0        3.0  0.0  2005.0  1er. Trimestre  Pampeana   \n",
      "29153  125283          1.0        1.0   Sí  2005.0  1er. Trimestre  Pampeana   \n",
      "29154  125283          1.0        2.0   Sí  2005.0  1er. Trimestre  Pampeana   \n",
      "\n",
      "      mas_500     aglomerado  pondera  ... deccfr ideccfr rdeccfr gdeccfr  \\\n",
      "29150       S  Gran La Plata    377.0  ...     05      05      04      04   \n",
      "29151       S  Gran La Plata    377.0  ...     05      05      04      04   \n",
      "29152       S  Gran La Plata    377.0  ...     05      05      04      04   \n",
      "29153       S  Gran La Plata    283.0  ...     10      10      10      09   \n",
      "29154       S  Gran La Plata    283.0  ...     10      10      10      09   \n",
      "\n",
      "      pdeccfr adeccfr pj1_1 pj2_1 pj3_1 idimpp  \n",
      "29150              04   0.0   0.0   0.0  00000  \n",
      "29151              04   0.0   0.0   0.0  00000  \n",
      "29152              04   0.0   0.0   0.0  00000  \n",
      "29153              09   0.0   0.0   0.0  20000  \n",
      "29154              09   0.0   0.0   0.0  21000  \n",
      "\n",
      "[5 rows x 176 columns]\n"
     ]
    }
   ],
   "source": [
    "#Nos quedamos solo con la región pampeana\n",
    "df_pampeana2025 = df[df['REGION'] == 43]\n",
    "print(df_pampeana2025.head())\n",
    "\n",
    "statta_pampeana2005 = statta[statta['region'] ==\"Pampeana\"]\n",
    "print(statta_pampeana2005.head())"
   ]
  },
  {
   "cell_type": "code",
   "execution_count": 7,
   "id": "b28e02bf",
   "metadata": {},
   "outputs": [
    {
     "name": "stdout",
     "output_type": "stream",
     "text": [
      "                          codusu  ano4  trimestre  nro_hogar  componente  h15  \\\n",
      "0  TQRMNOVQVHJOLOCDEFKID00875778  2025          1          1           2    1   \n",
      "1  TQRMNOVQVHJOLOCDEFKID00875778  2025          1          1           3    0   \n",
      "2  TQRMNOVQVHJOLOCDEFKID00875778  2025          1          1           4    0   \n",
      "3  TQRMNOVQVHJOLOCDEFKID00875778  2025          1          1           5    0   \n",
      "4  TQRMNOUPQHLOLOCDEFKID00851757  2025          1          1           1    1   \n",
      "\n",
      "   region mas_500  aglomerado  pondera  ...  v21_03_m  v22_01_m v22_02_m  \\\n",
      "0      43       S           4      927  ...         0         0        0   \n",
      "1      43       S           4      927  ...         0         0        0   \n",
      "2      43       S           4      927  ...         0         0        0   \n",
      "3      43       S           4      927  ...         0         0        0   \n",
      "4      43       S           4     1294  ...         0         0        0   \n",
      "\n",
      "   v22_03_m  p_deccf  p_rdeccf  p_gdeccf  p_pdeccf  p_ideccf  p_adeccf  \n",
      "0         0      3.0       2.0       3.0       NaN       3.0       2.0  \n",
      "1         0      3.0       2.0       3.0       NaN       3.0       2.0  \n",
      "2         0      3.0       2.0       3.0       NaN       3.0       2.0  \n",
      "3         0      3.0       2.0       3.0       NaN       3.0       2.0  \n",
      "4         0      3.0       3.0       3.0       NaN       3.0       3.0  \n",
      "\n",
      "[5 rows x 235 columns]\n"
     ]
    }
   ],
   "source": [
    "df_pampeana2025.columns = df_pampeana2025.columns.str.lower()\n",
    "print(df_pampeana2025.head())"
   ]
  },
  {
   "cell_type": "code",
   "execution_count": 8,
   "id": "ffa92bd4",
   "metadata": {},
   "outputs": [
    {
     "name": "stdout",
     "output_type": "stream",
     "text": [
      "Unique values in df_pampeana2025:\n",
      "ch04: [2 1]\n",
      "ch06: [ 25   7   4  -1  29  13   5  39  41   2  51  28  24  19  49  58  23  22\n",
      "  68  60  47  42  44  37  35  12  11  10  53  16  78  61  62  63  14   8\n",
      "  27  26  20  31  43  59  21  34  81  32  30  75  76  33  15  55  65  73\n",
      "  52  56  48  40  57  66  36  86  80  72  74  79  45  87  82  64  38   6\n",
      "   3  71   9  46  17  18   1  90  77  67  54  84  50  69  89  70  85  92\n",
      "  83  88  93  91  97 102  95 101  94  96]\n",
      "ch07: [1 5 2 4 3]\n",
      "ch08: [  4.   1.   2.   3.  12. 123.   9.  13.]\n",
      "nivel_ed: [4 1 7 5 6 3 2]\n",
      "estado: [1 4 3 2 0]\n",
      "cat_inac: [0 3 5 4 1 6 2 7]\n",
      "ipcf: [ 205600.    230000.    350000.   ...   36666.67 1037500.    616000.  ]\n",
      "\n",
      "Unique values in statta_pampeana2005:\n",
      "ch04: ['Varón', 'Mujer']\n",
      "Categories (2, object): ['Varón' < 'Mujer']\n",
      "ch06: [28.0, 30.0, 4.0, 66.0, 60.0, ..., '98 y más años', 90.0, 95.0, 94.0, 97.0]\n",
      "Length: 99\n",
      "Categories (99, object): ['Menos de 1 año' < 1.0 < 2.0 < 3.0 ... 95.0 < 96.0 < 97.0 < '98 y más años']\n",
      "ch07: ['Casado', 'Soltero', 'Unido', 'Viudo', 'Separado o divorciado', 'Ns./Nr.']\n",
      "Categories (6, object): ['Unido' < 'Casado' < 'Separado o divorciado' < 'Viudo' < 'Soltero' < 'Ns./Nr.']\n",
      "ch08: ['No paga ni le descuentan', 'Obra social (incluye PAMI)', 'Mutual/Prepaga/Servicio de emergencia', 'Obra social y mutual/prepaga/servicio de emer..., 'Obra social y planes y seguros públicos', 'Obra social, mutual/prepaga/servicio de emerg..., 'Planes y seguros públicos', 'Mutual/prepaga/servicio de emergencia/planes ..., 'Ns./Nr.']\n",
      "Categories (9, object): ['Obra social (incluye PAMI)' < 'Mutual/Prepaga/Servicio de emergencia' < 'Planes y seguros públicos' < 'No paga ni le descuentan' ... 'Obra social y mutual/prepaga/servicio de emer... < 'Obra social y planes y seguros públicos' < 'Mutual/prepaga/servicio de emergencia/planes ... < 'Obra social, mutual/prepaga/servicio de emerg...]\n",
      "nivel_ed: ['Primaria Completa', 'Superior Universitaria Completa', 'Sin instrucción', 'Secundaria Incompleta', 'Superior Universitaria Incompleta', 'Secundaria Completa', 'Primaria Incompleta (incluye educación especi...]\n",
      "Categories (7, object): ['Primaria Incompleta (incluye educación especi... < 'Primaria Completa' < 'Secundaria Incompleta' < 'Secundaria Completa' < 'Superior Universitaria Incompleta' < 'Superior Universitaria Completa' < 'Sin instrucción']\n",
      "estado: ['Ocupado', 'Menor de 10 años', 'Inactivo', 'Desocupado', 'Entrevista individual no realizada (no respue...]\n",
      "Categories (5, object): ['Entrevista individual no realizada (no respue... < 'Ocupado' < 'Desocupado' < 'Inactivo' < 'Menor de 10 años']\n",
      "cat_inac: [0.0, 'Menor de 6 años', 'Jubilado/pensionado', 'Estudiante', 'Ama de casa', 'Rentista', 'Discapacitado', 'Otros']\n",
      "Categories (8, object): [0.0 < 'Jubilado/pensionado' < 'Rentista' < 'Estudiante' < 'Ama de casa' < 'Menor de 6 años' < 'Discapacitado' < 'Otros']\n",
      "ipcf: [ 280.    1075.     400.    ...  682.5    274.625  615.   ]\n"
     ]
    }
   ],
   "source": [
    "columns_to_check = ['ch04', 'ch06', 'ch07', 'ch08', 'nivel_ed', 'estado', 'cat_inac', 'ipcf']\n",
    "\n",
    "print(\"Unique values in df_pampeana2025:\")\n",
    "for col in columns_to_check:\n",
    "    if col in df_pampeana2025.columns:\n",
    "        print(f\"{col}: {df_pampeana2025[col].unique()}\")\n",
    "    else:\n",
    "        print(f\"{col}: Column not found in df_pampeana2025\")\n",
    "\n",
    "print(\"\\nUnique values in statta_pampeana2005:\")\n",
    "for col in columns_to_check:\n",
    "    if col in statta_pampeana2005.columns:\n",
    "        print(f\"{col}: {statta_pampeana2005[col].unique()}\")\n",
    "    else:\n",
    "        print(f\"{col}: Column not found in statta_pampeana2005\")\n",
    "    "
   ]
  },
  {
   "cell_type": "code",
   "execution_count": 11,
   "id": "e682fef0-99c8-4481-8100-2a9df5c9b4a5",
   "metadata": {},
   "outputs": [
    {
     "name": "stderr",
     "output_type": "stream",
     "text": [
      "C:\\Users\\usuario\\AppData\\Local\\Temp\\ipykernel_13076\\2632009088.py:2: SettingWithCopyWarning: \n",
      "A value is trying to be set on a copy of a slice from a DataFrame.\n",
      "Try using .loc[row_indexer,col_indexer] = value instead\n",
      "\n",
      "See the caveats in the documentation: https://pandas.pydata.org/pandas-docs/stable/user_guide/indexing.html#returning-a-view-versus-a-copy\n",
      "  statta_pampeana2005['ch04'] = statta_pampeana2005['ch04'].replace({'Varón': 1, 'Mujer': 2})\n"
     ]
    },
    {
     "data": {
      "text/plain": [
       "CategoricalDtype(categories=[1, 2], ordered=True, categories_dtype=int64)"
      ]
     },
     "execution_count": 11,
     "metadata": {},
     "output_type": "execute_result"
    }
   ],
   "source": [
    "# el prompt: from ch04 in statta_pampeana2005 , transform \"Varón\" to 1 and \"Mujer\" to 2\n",
    "statta_pampeana2005['ch04'] = statta_pampeana2005['ch04'].replace({'Varón': 1, 'Mujer': 2})\n",
    "statta_pampeana2005['ch04'].dtype"
   ]
  },
  {
   "cell_type": "code",
   "execution_count": 12,
   "id": "2f8962ff",
   "metadata": {},
   "outputs": [
    {
     "name": "stdout",
     "output_type": "stream",
     "text": [
      "Values only in statta_pampeana2005['ch06']: {'98 y más años', 'Menos de 1 año'}\n",
      "Values only in df_pampeana2025['ch06']: {np.int64(101), np.int64(102), np.int64(-1)}\n"
     ]
    }
   ],
   "source": [
    "#ch06. valores: edad. 1 a 100\n",
    "only_in_statta = set(statta_pampeana2005[\"ch06\"].unique()) - set(df_pampeana2025[\"ch06\"].unique())\n",
    "print(\"Values only in statta_pampeana2005['ch06']:\", only_in_statta)\n",
    "\n",
    "only_in_df = set(df_pampeana2025[\"ch06\"].unique()) - set(statta_pampeana2005[\"ch06\"].unique())\n",
    "print(\"Values only in df_pampeana2025['ch06']:\", only_in_df)\n",
    "\n"
   ]
  },
  {
   "cell_type": "code",
   "execution_count": 15,
   "id": "b01e47aa",
   "metadata": {},
   "outputs": [
    {
     "name": "stderr",
     "output_type": "stream",
     "text": [
      "C:\\Users\\usuario\\AppData\\Local\\Temp\\ipykernel_13076\\2186132469.py:1: FutureWarning: The behavior of Series.replace (and DataFrame.replace) with CategoricalDtype is deprecated. In a future version, replace will only be used for cases that preserve the categories. To change the categories, use ser.cat.rename_categories instead.\n",
      "  statta_pampeana2005['ch06'] = statta_pampeana2005['ch06'].replace('Menos de 1 año', -1)\n",
      "C:\\Users\\usuario\\AppData\\Local\\Temp\\ipykernel_13076\\2186132469.py:1: SettingWithCopyWarning: \n",
      "A value is trying to be set on a copy of a slice from a DataFrame.\n",
      "Try using .loc[row_indexer,col_indexer] = value instead\n",
      "\n",
      "See the caveats in the documentation: https://pandas.pydata.org/pandas-docs/stable/user_guide/indexing.html#returning-a-view-versus-a-copy\n",
      "  statta_pampeana2005['ch06'] = statta_pampeana2005['ch06'].replace('Menos de 1 año', -1)\n",
      "C:\\Users\\usuario\\AppData\\Local\\Temp\\ipykernel_13076\\2186132469.py:2: FutureWarning: Downcasting behavior in `replace` is deprecated and will be removed in a future version. To retain the old behavior, explicitly call `result.infer_objects(copy=False)`. To opt-in to the future behavior, set `pd.set_option('future.no_silent_downcasting', True)`\n",
      "  statta_pampeana2005[\"ch06\"] = statta_pampeana2005[\"ch06\"].replace(\"98 y más años\",98)\n",
      "C:\\Users\\usuario\\AppData\\Local\\Temp\\ipykernel_13076\\2186132469.py:2: FutureWarning: The behavior of Series.replace (and DataFrame.replace) with CategoricalDtype is deprecated. In a future version, replace will only be used for cases that preserve the categories. To change the categories, use ser.cat.rename_categories instead.\n",
      "  statta_pampeana2005[\"ch06\"] = statta_pampeana2005[\"ch06\"].replace(\"98 y más años\",98)\n",
      "C:\\Users\\usuario\\AppData\\Local\\Temp\\ipykernel_13076\\2186132469.py:2: SettingWithCopyWarning: \n",
      "A value is trying to be set on a copy of a slice from a DataFrame.\n",
      "Try using .loc[row_indexer,col_indexer] = value instead\n",
      "\n",
      "See the caveats in the documentation: https://pandas.pydata.org/pandas-docs/stable/user_guide/indexing.html#returning-a-view-versus-a-copy\n",
      "  statta_pampeana2005[\"ch06\"] = statta_pampeana2005[\"ch06\"].replace(\"98 y más años\",98)\n"
     ]
    }
   ],
   "source": [
    "statta_pampeana2005['ch06'] = statta_pampeana2005['ch06'].replace('Menos de 1 año', -1)\n",
    "statta_pampeana2005[\"ch06\"] = statta_pampeana2005[\"ch06\"].replace(\"98 y más años\",98)\n",
    "#aca no se si cortar en 97 en los 2 para que quede igual, o dejarlo asi.\n",
    "#por ahora lo hago y de ultima lo dejamos como comentario\n",
    "statta_pampeana2005 = statta_pampeana2005[statta_pampeana2005[\"ch06\"].astype(float) <= 97]\n",
    "df_pampeana2025 = df_pampeana2025[df_pampeana2025[\"ch06\"].astype(float) <= 97]\n"
   ]
  },
  {
   "cell_type": "code",
   "execution_count": 16,
   "id": "b81c40e5",
   "metadata": {},
   "outputs": [
    {
     "name": "stdout",
     "output_type": "stream",
     "text": [
      "Are the unique values equal? True\n"
     ]
    }
   ],
   "source": [
    "d2005=statta_pampeana2005\n",
    "d2025=df_pampeana2025\n",
    "\n",
    "print(\"Are the unique values equal?\", set(d2005[\"ch06\"].unique()) == set(d2025[\"ch06\"].unique()))\n",
    "#listo ch06"
   ]
  },
  {
   "cell_type": "code",
   "execution_count": 17,
   "id": "afc9a4ed",
   "metadata": {},
   "outputs": [
    {
     "name": "stdout",
     "output_type": "stream",
     "text": [
      "Are the unique values equal? True\n"
     ]
    },
    {
     "name": "stderr",
     "output_type": "stream",
     "text": [
      "C:\\Users\\usuario\\AppData\\Local\\Temp\\ipykernel_13076\\409446041.py:8: FutureWarning: The behavior of Series.replace (and DataFrame.replace) with CategoricalDtype is deprecated. In a future version, replace will only be used for cases that preserve the categories. To change the categories, use ser.cat.rename_categories instead.\n",
      "  d2005['ch07'] = d2005['ch07'].replace({\n",
      "C:\\Users\\usuario\\AppData\\Local\\Temp\\ipykernel_13076\\409446041.py:8: SettingWithCopyWarning: \n",
      "A value is trying to be set on a copy of a slice from a DataFrame.\n",
      "Try using .loc[row_indexer,col_indexer] = value instead\n",
      "\n",
      "See the caveats in the documentation: https://pandas.pydata.org/pandas-docs/stable/user_guide/indexing.html#returning-a-view-versus-a-copy\n",
      "  d2005['ch07'] = d2005['ch07'].replace({\n"
     ]
    }
   ],
   "source": [
    "#ch07... 1=unido 2= casado 3=separado 4=viudo 5=soltero\n",
    "#['Casado', 'Soltero', 'Unido', 'Viudo', 'Separado o divorciado', 'Ns./Nr.']\n",
    "#saco las filas con ns/nr\n",
    "\n",
    "\n",
    "\n",
    "d2005 = d2005[d2005['ch07'] != 'Ns./Nr.']\n",
    "d2005['ch07'] = d2005['ch07'].replace({\n",
    "    'Unido': 1,\n",
    "    'Casado': 2,\n",
    "    'Separado o divorciado': 3,\n",
    "    'Viudo': 4,\n",
    "    'Soltero': 5\n",
    "})\n",
    "print(\"Are the unique values equal?\", set(d2005[\"ch07\"].unique()) == set(d2025[\"ch07\"].unique()))"
   ]
  },
  {
   "cell_type": "code",
   "execution_count": 18,
   "id": "3e424cb4",
   "metadata": {
    "vscode": {
     "languageId": "javascript"
    }
   },
   "outputs": [
    {
     "name": "stdout",
     "output_type": "stream",
     "text": [
      "<IntegerArray>\n",
      "[4, 1, 2, 3, 12, 123, 9, 13]\n",
      "Length: 8, dtype: Int64\n",
      "[4, 1, 2, 12, 13, 123, 3, 23, 9]\n",
      "Categories (9, int64): [1 < 2 < 3 < 4 ... 12 < 13 < 23 < 123]\n"
     ]
    },
    {
     "name": "stderr",
     "output_type": "stream",
     "text": [
      "C:\\Users\\usuario\\AppData\\Local\\Temp\\ipykernel_13076\\3293158098.py:1: FutureWarning: Downcasting behavior in `replace` is deprecated and will be removed in a future version. To retain the old behavior, explicitly call `result.infer_objects(copy=False)`. To opt-in to the future behavior, set `pd.set_option('future.no_silent_downcasting', True)`\n",
      "  d2005['ch08'] = d2005['ch08'].replace({\n",
      "C:\\Users\\usuario\\AppData\\Local\\Temp\\ipykernel_13076\\3293158098.py:1: FutureWarning: The behavior of Series.replace (and DataFrame.replace) with CategoricalDtype is deprecated. In a future version, replace will only be used for cases that preserve the categories. To change the categories, use ser.cat.rename_categories instead.\n",
      "  d2005['ch08'] = d2005['ch08'].replace({\n",
      "C:\\Users\\usuario\\AppData\\Local\\Temp\\ipykernel_13076\\3293158098.py:1: SettingWithCopyWarning: \n",
      "A value is trying to be set on a copy of a slice from a DataFrame.\n",
      "Try using .loc[row_indexer,col_indexer] = value instead\n",
      "\n",
      "See the caveats in the documentation: https://pandas.pydata.org/pandas-docs/stable/user_guide/indexing.html#returning-a-view-versus-a-copy\n",
      "  d2005['ch08'] = d2005['ch08'].replace({\n"
     ]
    }
   ],
   "source": [
    "d2005['ch08'] = d2005['ch08'].replace({\n",
    "    'No paga ni le descuentan': 4,\n",
    "    'Obra social (incluye PAMI)': 1,\n",
    "    'Mutual/Prepaga/Servicio de emergencia': 2,\n",
    "    'Obra social y mutual/prepaga/servicio de emergencia': 12,\n",
    "    'Obra social y planes y seguros públicos': 13,\n",
    "    'Obra social, mutual/prepaga/servicio de emergencia y planes': 123,\n",
    "    'Planes y seguros públicos': 3,\n",
    "    'Mutual/prepaga/servicio de emergencia/planes y seguros públi': 23,\n",
    "    'Ns./Nr.': 9\n",
    "})\n",
    "d2025[\"ch08\"] = d2025[\"ch08\"].astype('Int64')\n",
    "\n",
    "print(d2025[\"ch08\"].unique())\n",
    "print(d2005[\"ch08\"].unique())\n",
    "#es medio confuso porque falta el 23 en el d2025 pero estan de igual formato\n"
   ]
  },
  {
   "cell_type": "code",
   "execution_count": 19,
   "id": "3629c6d1",
   "metadata": {
    "vscode": {
     "languageId": "javascript"
    }
   },
   "outputs": [
    {
     "name": "stdout",
     "output_type": "stream",
     "text": [
      "[5.0, 1.0, 3.0, 4.0, 2.0, 6.0, 7.0]\n",
      "Categories (8, float64): [0.0 < 1.0 < 2.0 < 3.0 < 4.0 < 5.0 < 6.0 < 7.0]\n"
     ]
    },
    {
     "name": "stderr",
     "output_type": "stream",
     "text": [
      "C:\\Users\\usuario\\AppData\\Local\\Temp\\ipykernel_13076\\1253168025.py:1: FutureWarning: Downcasting behavior in `replace` is deprecated and will be removed in a future version. To retain the old behavior, explicitly call `result.infer_objects(copy=False)`. To opt-in to the future behavior, set `pd.set_option('future.no_silent_downcasting', True)`\n",
      "  d2005[\"cat_inac\"] = d2005[\"cat_inac\"].replace({\n",
      "C:\\Users\\usuario\\AppData\\Local\\Temp\\ipykernel_13076\\1253168025.py:1: FutureWarning: The behavior of Series.replace (and DataFrame.replace) with CategoricalDtype is deprecated. In a future version, replace will only be used for cases that preserve the categories. To change the categories, use ser.cat.rename_categories instead.\n",
      "  d2005[\"cat_inac\"] = d2005[\"cat_inac\"].replace({\n",
      "C:\\Users\\usuario\\AppData\\Local\\Temp\\ipykernel_13076\\1253168025.py:1: SettingWithCopyWarning: \n",
      "A value is trying to be set on a copy of a slice from a DataFrame.\n",
      "Try using .loc[row_indexer,col_indexer] = value instead\n",
      "\n",
      "See the caveats in the documentation: https://pandas.pydata.org/pandas-docs/stable/user_guide/indexing.html#returning-a-view-versus-a-copy\n",
      "  d2005[\"cat_inac\"] = d2005[\"cat_inac\"].replace({\n"
     ]
    }
   ],
   "source": [
    "\n",
    "d2005[\"cat_inac\"] = d2005[\"cat_inac\"].replace({\n",
    "    \"Jubilado/pensionado\": 1,\n",
    "    \"Rentista\": 2,\n",
    "    \"Estudiante\": 3,\n",
    "    \"Ama de casa\": 4,\n",
    "    \"Menor de 6 años\": 5,\n",
    "    \"Discapacitado\": 6,\n",
    "    \"Otros\": 7\n",
    "})\n",
    "\n",
    "#el d2005 tambien tiene un 0, a priori lo borro pq no tiene significado lo pueden revertir haciendo comentario la linea d abajo\n",
    "d2005 = d2005[d2005[\"cat_inac\"] != 0]\n",
    "print(d2005[\"cat_inac\"].unique())\n"
   ]
  },
  {
   "cell_type": "code",
   "execution_count": 20,
   "id": "82d20d67",
   "metadata": {
    "vscode": {
     "languageId": "javascript"
    }
   },
   "outputs": [
    {
     "name": "stdout",
     "output_type": "stream",
     "text": [
      "d2005 ipcf min: 0.0 max: 7500.0\n",
      "d2025 ipcf min: 0.0 max: 8600000.0\n",
      "d2005 ipcf min: 0.0 max: 7272075.0\n",
      "d2025 ipcf min: 0.0 max: 8600000.0\n"
     ]
    }
   ],
   "source": [
    "#ipcf. esta en pesos, supongo que lo ajusto por infla\n",
    "\n",
    "print(\"d2005 ipcf min:\", d2005[\"ipcf\"].min(), \"max:\", d2005[\"ipcf\"].max())\n",
    "print(\"d2025 ipcf min:\", d2025[\"ipcf\"].min(), \"max:\", d2025[\"ipcf\"].max())\n",
    "\n",
    "\n",
    "#le aplico la inflacion marzo 2005-marzo 2025\n",
    "if not hasattr(d2005, \"_ipcf_adjusted\"):\n",
    "    d2005[\"ipcf\"] = d2005[\"ipcf\"] * 969.61  # ajuste por inflación aproximado\n",
    "    d2005._ipcf_adjusted = True\n",
    "\n",
    "print(\"d2005 ipcf min:\", d2005[\"ipcf\"].min(), \"max:\", d2005[\"ipcf\"].max())\n",
    "print(\"d2025 ipcf min:\", d2025[\"ipcf\"].min(), \"max:\", d2025[\"ipcf\"].max())\n",
    "\n",
    "\n",
    "#debería andar"
   ]
  },
  {
   "cell_type": "markdown",
   "id": "b00fdb4c-5cd4-4669-b81f-fe5b33d1ef8e",
   "metadata": {},
   "source": [
    "Variable CH09"
   ]
  },
  {
   "cell_type": "code",
   "execution_count": 23,
   "id": "8d200951-6158-4d99-8f99-8e9c52d49efc",
   "metadata": {},
   "outputs": [
    {
     "name": "stdout",
     "output_type": "stream",
     "text": [
      "d2005: category\n",
      "d2025: int64\n",
      "Valores únicos en d2005:\n",
      "['No', 'Menor de 2 años', 'Sí']\n",
      "Categories (5, object): [0.0 < 'Sí' < 'No' < 'Menor de 2 años' < 'Ns./Nr.']\n",
      "\n",
      "Valores únicos en d2025:\n",
      "[1 2 3]\n"
     ]
    }
   ],
   "source": [
    "print(\"d2005:\", d2005[\"ch09\"].dtype)\n",
    "print(\"d2025:\", d2025[\"ch09\"].dtype)\n",
    "\n",
    "print(\"Valores únicos en d2005:\")\n",
    "print(d2005[\"ch09\"].unique())\n",
    "\n",
    "print(\"\\nValores únicos en d2025:\")\n",
    "print(d2025[\"ch09\"].unique())"
   ]
  },
  {
   "cell_type": "code",
   "execution_count": 24,
   "id": "1e1622aa-2bdd-4426-9154-b8c9bab5e5f4",
   "metadata": {},
   "outputs": [
    {
     "name": "stdout",
     "output_type": "stream",
     "text": [
      "Int64\n",
      "<IntegerArray>\n",
      "[2, 3, 1]\n",
      "Length: 3, dtype: Int64\n"
     ]
    }
   ],
   "source": [
    "# Definir un diccionario de mapeo\n",
    "map_ch09 = {\n",
    "    'Sí': 1,\n",
    "    'No': 2,\n",
    "    'Menor de 2 años': 3,\n",
    "    'Ns./Nr.': pd.NA  # lo dejamos como valor faltante\n",
    "}\n",
    "\n",
    "# Convertir d2005[\"ch09\"] a int usando el mapeo\n",
    "d2005[\"ch09\"] = d2005[\"ch09\"].map(map_ch09).astype('Int64')  # Int64 permite NA\n",
    "\n",
    "# Verificamos\n",
    "print(d2005[\"ch09\"].dtype)\n",
    "print(d2005[\"ch09\"].unique())\n"
   ]
  },
  {
   "cell_type": "code",
   "execution_count": 25,
   "id": "af570b67-2d9a-4026-8271-d1f7a5f397e8",
   "metadata": {},
   "outputs": [
    {
     "name": "stdout",
     "output_type": "stream",
     "text": [
      "Tipo d2005['ch09']: Int64\n",
      "Tipo d2025['ch09']: int64\n",
      "\n",
      "Valores únicos d2005['ch09']: [np.int64(1), np.int64(2), np.int64(3)]\n",
      "Valores únicos d2025['ch09']: [np.int64(1), np.int64(2), np.int64(3)]\n",
      "\n",
      "¿Tienen las mismas categorías numéricas? True\n"
     ]
    }
   ],
   "source": [
    "# Revisar tipo de dato\n",
    "print(\"Tipo d2005['ch09']:\", d2005['ch09'].dtype)\n",
    "print(\"Tipo d2025['ch09']:\", d2025['ch09'].dtype)\n",
    "\n",
    "# Revisar valores únicos ordenados\n",
    "print(\"\\nValores únicos d2005['ch09']:\", sorted(d2005['ch09'].dropna().unique()))\n",
    "print(\"Valores únicos d2025['ch09']:\", sorted(d2025['ch09'].dropna().unique()))\n",
    "\n",
    "# Comparar si los valores únicos coinciden\n",
    "valores_comunes = set(d2005['ch09'].dropna().unique()) == set(d2025['ch09'].dropna().unique())\n",
    "print(\"\\n¿Tienen las mismas categorías numéricas?\", valores_comunes)\n"
   ]
  },
  {
   "cell_type": "markdown",
   "id": "71414e5c-1402-4cfe-aab6-7804e0a959ce",
   "metadata": {},
   "source": [
    "Variable CH10"
   ]
  },
  {
   "cell_type": "code",
   "execution_count": 26,
   "id": "04ec35bb-5711-4774-9bbe-4497fed8fb6f",
   "metadata": {},
   "outputs": [
    {
     "name": "stdout",
     "output_type": "stream",
     "text": [
      "d2005: category\n",
      "d2025: int64\n",
      "Valores únicos en d2005:\n",
      "['Sí, asiste', 0.0, 'No asiste, pero asistió', 'Nunca asistió']\n",
      "Categories (5, object): [0.0 < 'Sí, asiste' < 'No asiste, pero asistió' < 'Nunca asistió' < 'Ns./Nr.']\n",
      "\n",
      "Valores únicos en d2025:\n",
      "[2 1 0 3]\n"
     ]
    }
   ],
   "source": [
    "print(\"d2005:\", d2005[\"ch10\"].dtype)\n",
    "print(\"d2025:\", d2025[\"ch10\"].dtype)\n",
    "\n",
    "print(\"Valores únicos en d2005:\")\n",
    "print(d2005[\"ch10\"].unique())\n",
    "\n",
    "print(\"\\nValores únicos en d2025:\")\n",
    "print(d2025[\"ch10\"].unique())"
   ]
  },
  {
   "cell_type": "code",
   "execution_count": 27,
   "id": "385fab5b-5d41-442d-8062-59254234a516",
   "metadata": {},
   "outputs": [
    {
     "name": "stdout",
     "output_type": "stream",
     "text": [
      "d2005['ch10'] dtype: Int64\n",
      "d2025['ch10'] dtype: Int64\n",
      "\n",
      "Valores únicos d2005['ch10']: [np.int64(1), np.int64(2), np.int64(3)]\n",
      "Valores únicos d2025['ch10']: [np.int64(0), np.int64(1), np.int64(2), np.int64(3)]\n"
     ]
    }
   ],
   "source": [
    "# Definir mapeo de d2005 a números\n",
    "map_ch10 = {\n",
    "    'Sí, asiste': 1,\n",
    "    'No asiste, pero asistió': 2,\n",
    "    'Nunca asistió': 3,\n",
    "    'Ns./Nr.': pd.NA,\n",
    "    0.0: pd.NA  # en caso de que aparezca 0.0\n",
    "}\n",
    "\n",
    "# Aplicar el mapeo\n",
    "d2005[\"ch10\"] = d2005[\"ch10\"].map(map_ch10).astype('Int64')\n",
    "\n",
    "# Asegurarse de que d2025 también sea Int64\n",
    "d2025[\"ch10\"] = d2025[\"ch10\"].astype('Int64')\n"
   ]
  },
  {
   "cell_type": "code",
   "execution_count": 28,
   "id": "f2f67bf3-2a80-4554-8459-3d0a1390840c",
   "metadata": {},
   "outputs": [
    {
     "name": "stdout",
     "output_type": "stream",
     "text": [
      "d2005['ch10'] dtype: Int64\n",
      "d2025['ch10'] dtype: Int64\n",
      "\n",
      "Valores únicos d2005['ch10']: [np.int64(1), np.int64(2), np.int64(3)]\n",
      "Valores únicos d2025['ch10']: [np.int64(1), np.int64(2), np.int64(3)]\n"
     ]
    }
   ],
   "source": [
    "d2025[\"ch10\"] = d2025[\"ch10\"].replace(0, pd.NA).astype('Int64')\n",
    "# Verificación\n",
    "print(\"d2005['ch10'] dtype:\", d2005[\"ch10\"].dtype)\n",
    "print(\"d2025['ch10'] dtype:\", d2025[\"ch10\"].dtype)\n",
    "\n",
    "print(\"\\nValores únicos d2005['ch10']:\", sorted(d2005[\"ch10\"].dropna().unique()))\n",
    "print(\"Valores únicos d2025['ch10']:\", sorted(d2025[\"ch10\"].dropna().unique()))"
   ]
  },
  {
   "cell_type": "markdown",
   "id": "4eb3b394-9e47-467f-9a1e-b371d7e86509",
   "metadata": {},
   "source": [
    "CH03"
   ]
  },
  {
   "cell_type": "code",
   "execution_count": 30,
   "id": "8318c807-0e1d-4e78-a75e-9bdf9ce2c2dd",
   "metadata": {},
   "outputs": [
    {
     "name": "stdout",
     "output_type": "stream",
     "text": [
      "d2005: category\n",
      "d2025: int64\n",
      "Valores únicos en d2005:\n",
      "['Hijo/Hijastro', 'Jefe', 'Hermano', 'Cónyuge/Pareja', 'Nieto', 'No familiares', 'Yerno/Nuera', 'Suegro', 'Otros familiares', 'Madre/Padre']\n",
      "Categories (10, object): ['Jefe' < 'Cónyuge/Pareja' < 'Hijo/Hijastro' < 'Yerno/Nuera' ... 'Suegro' < 'Hermano' < 'Otros familiares' < 'No familiares']\n",
      "\n",
      "Valores únicos en d2025:\n",
      "[ 2  3  1  5  9  4  6  8 10  7]\n"
     ]
    }
   ],
   "source": [
    "print(\"d2005:\", d2005[\"ch03\"].dtype)\n",
    "print(\"d2025:\", d2025[\"ch03\"].dtype)\n",
    "\n",
    "print(\"Valores únicos en d2005:\")\n",
    "print(d2005[\"ch03\"].unique())\n",
    "\n",
    "print(\"\\nValores únicos en d2025:\")\n",
    "print(d2025[\"ch03\"].unique())"
   ]
  },
  {
   "cell_type": "code",
   "execution_count": 31,
   "id": "5b310f6e-f160-45a2-b829-a3f919fc12ab",
   "metadata": {},
   "outputs": [
    {
     "name": "stdout",
     "output_type": "stream",
     "text": [
      "d2005['ch03'] dtype: Int64\n",
      "d2025['ch03'] dtype: Int64\n",
      "\n",
      "Valores únicos d2005['ch03']: [np.int64(1), np.int64(2), np.int64(3), np.int64(4), np.int64(5), np.int64(6), np.int64(7), np.int64(8), np.int64(9), np.int64(10)]\n",
      "Valores únicos d2025['ch03']: [np.int64(1), np.int64(2), np.int64(3), np.int64(4), np.int64(5), np.int64(6), np.int64(7), np.int64(8), np.int64(9), np.int64(10)]\n"
     ]
    }
   ],
   "source": [
    "# Definir mapeo de d2005 a números según d2025\n",
    "map_ch03 = {\n",
    "    'Jefe': 1,\n",
    "    'Cónyuge/Pareja': 2,\n",
    "    'Hijo/Hijastro': 3,\n",
    "    'Yerno/Nuera': 4,\n",
    "    'Nieto': 5,\n",
    "    'Madre/Padre': 6,\n",
    "    'Suegro': 7,\n",
    "    'Hermano': 8,\n",
    "    'Otros familiares': 9,\n",
    "    'No familiares': 10\n",
    "}\n",
    "\n",
    "# Aplicar el mapeo\n",
    "d2005[\"ch03\"] = d2005[\"ch03\"].map(map_ch03).astype('Int64')\n",
    "\n",
    "# Asegurarse de que d2025 también sea Int64\n",
    "d2025[\"ch03\"] = d2025[\"ch03\"].astype('Int64')\n",
    "\n",
    "# Verificación\n",
    "print(\"d2005['ch03'] dtype:\", d2005[\"ch03\"].dtype)\n",
    "print(\"d2025['ch03'] dtype:\", d2025[\"ch03\"].dtype)\n",
    "\n",
    "print(\"\\nValores únicos d2005['ch03']:\", sorted(d2005[\"ch03\"].dropna().unique()))\n",
    "print(\"Valores únicos d2025['ch03']:\", sorted(d2025[\"ch03\"].dropna().unique()))\n"
   ]
  },
  {
   "cell_type": "markdown",
   "id": "cc08110b-86eb-4e76-b7a0-e0d5d39debdf",
   "metadata": {},
   "source": [
    "CH14"
   ]
  },
  {
   "cell_type": "code",
   "execution_count": 32,
   "id": "224b97db-92ac-42b8-ba33-487bc821c2ae",
   "metadata": {},
   "outputs": [
    {
     "name": "stdout",
     "output_type": "stream",
     "text": [
      "d2005: object\n",
      "d2025: float64\n",
      "Valores únicos en d2005:\n",
      "['01' '  ' '02' '03' '08' '00' '06' '99' '05' '07' '04' '98' '09']\n",
      "\n",
      "Valores únicos en d2025:\n",
      "[nan  1.  0.  3.  5.  4.  2.  6. 98. 99.  8.  7.  9.]\n"
     ]
    }
   ],
   "source": [
    "print(\"d2005:\", d2005[\"ch14\"].dtype)\n",
    "print(\"d2025:\", d2025[\"ch14\"].dtype)\n",
    "\n",
    "print(\"Valores únicos en d2005:\")\n",
    "print(d2005[\"ch14\"].unique())\n",
    "\n",
    "print(\"\\nValores únicos en d2025:\")\n",
    "print(d2025[\"ch14\"].unique())"
   ]
  },
  {
   "cell_type": "code",
   "execution_count": 33,
   "id": "abe443c4-e482-4961-8273-8e9a606ef2a1",
   "metadata": {},
   "outputs": [
    {
     "name": "stdout",
     "output_type": "stream",
     "text": [
      "d2005['ch14'] dtype: Int64\n",
      "d2025['ch14'] dtype: Int64\n",
      "\n",
      "Valores únicos d2005['ch14']: [np.int64(0), np.int64(1), np.int64(2), np.int64(3), np.int64(4), np.int64(5), np.int64(6), np.int64(7), np.int64(8), np.int64(9), np.int64(98), np.int64(99)]\n",
      "Valores únicos d2025['ch14']: [np.int64(0), np.int64(1), np.int64(2), np.int64(3), np.int64(4), np.int64(5), np.int64(6), np.int64(7), np.int64(8), np.int64(9), np.int64(98), np.int64(99)]\n"
     ]
    }
   ],
   "source": [
    "# Convertir '  ' a NA y el resto a números\n",
    "d2005[\"ch14\"] = d2005[\"ch14\"].replace({'  ': pd.NA}).astype('Int64')\n",
    "\n",
    "# Asegurarse de que d2025 también sea Int64\n",
    "d2025[\"ch14\"] = d2025[\"ch14\"].astype('Int64')\n",
    "\n",
    "# Verificación\n",
    "print(\"d2005['ch14'] dtype:\", d2005[\"ch14\"].dtype)\n",
    "print(\"d2025['ch14'] dtype:\", d2025[\"ch14\"].dtype)\n",
    "\n",
    "print(\"\\nValores únicos d2005['ch14']:\", sorted(d2005[\"ch14\"].dropna().unique()))\n",
    "print(\"Valores únicos d2025['ch14']:\", sorted(d2025[\"ch14\"].dropna().unique()))\n"
   ]
  },
  {
   "cell_type": "code",
   "execution_count": 34,
   "id": "86985158-c7cd-4e69-91e9-4a8715ba01d9",
   "metadata": {},
   "outputs": [
    {
     "name": "stdout",
     "output_type": "stream",
     "text": [
      "d2005['ch14'] valores únicos: [np.int64(0), np.int64(1), np.int64(2), np.int64(3), np.int64(4), np.int64(5), np.int64(6), np.int64(7), np.int64(8), np.int64(9), np.int64(98), np.int64(99)]\n",
      "d2025['ch14'] valores únicos: [np.int64(0), np.int64(1), np.int64(2), np.int64(3), np.int64(4), np.int64(5), np.int64(6), np.int64(7), np.int64(8), np.int64(9), np.int64(98)]\n"
     ]
    }
   ],
   "source": [
    "# Convertir 99 a NA en d2005\n",
    "d2005[\"ch14\"] = d2005[\"ch14\"].replace('99', pd.NA).astype('Int64')\n",
    "\n",
    "# Convertir 99 a NA en d2025\n",
    "d2025[\"ch14\"] = d2025[\"ch14\"].replace(99, pd.NA).astype('Int64')\n",
    "\n",
    "# Verificación\n",
    "print(\"d2005['ch14'] valores únicos:\", sorted(d2005[\"ch14\"].dropna().unique()))\n",
    "print(\"d2025['ch14'] valores únicos:\", sorted(d2025[\"ch14\"].dropna().unique()))\n"
   ]
  },
  {
   "cell_type": "markdown",
   "id": "bb954fe9-f73a-42f7-820b-cf405dd07d16",
   "metadata": {},
   "source": [
    "CH15"
   ]
  },
  {
   "cell_type": "code",
   "execution_count": 35,
   "id": "ba42d05d-94b3-4745-aac0-64a6d99712e4",
   "metadata": {},
   "outputs": [
    {
     "name": "stdout",
     "output_type": "stream",
     "text": [
      "d2005: category\n",
      "d2025: int64\n",
      "Valores únicos en d2005:\n",
      "['En esta localidad', 'En otra localidad', 'En otro país', 'En otra provincia (especificar)', 'En un país limítrofe', 'Ns./Nr.']\n",
      "Categories (6, object): ['En esta localidad' < 'En otra localidad' < 'En otra provincia (especificar)' < 'En un país limítrofe' < 'En otro país' < 'Ns./Nr.']\n",
      "\n",
      "Valores únicos en d2025:\n",
      "[1 3 2 4 9 5]\n"
     ]
    }
   ],
   "source": [
    "print(\"d2005:\", d2005[\"ch15\"].dtype)\n",
    "print(\"d2025:\", d2025[\"ch15\"].dtype)\n",
    "\n",
    "print(\"Valores únicos en d2005:\")\n",
    "print(d2005[\"ch15\"].unique())\n",
    "\n",
    "print(\"\\nValores únicos en d2025:\")\n",
    "print(d2025[\"ch15\"].unique())"
   ]
  },
  {
   "cell_type": "code",
   "execution_count": 36,
   "id": "12104f63-e110-4bd8-84f1-b8d30d6d0847",
   "metadata": {},
   "outputs": [
    {
     "name": "stdout",
     "output_type": "stream",
     "text": [
      "d2005['ch15'] dtype: Int64\n",
      "d2025['ch15'] dtype: Int64\n",
      "\n",
      "Valores únicos d2005['ch15']: [np.int64(1), np.int64(2), np.int64(3), np.int64(4), np.int64(5)]\n",
      "Valores únicos d2025['ch15']: [np.int64(1), np.int64(2), np.int64(3), np.int64(4), np.int64(5), np.int64(9)]\n"
     ]
    }
   ],
   "source": [
    "# Definir el mapeo según los valores de d2025\n",
    "map_ch15 = {\n",
    "    'En esta localidad': 1,\n",
    "    'En otra localidad': 2,\n",
    "    'En otra provincia (especificar)': 3,\n",
    "    'En un país limítrofe': 4,\n",
    "    'En otro país': 5,\n",
    "    'Ns./Nr.': pd.NA  # No sabe / No responde\n",
    "}\n",
    "\n",
    "# Aplicar el mapeo a d2005 y convertir a Int64\n",
    "d2005[\"ch15\"] = d2005[\"ch15\"].map(map_ch15).astype('Int64')\n",
    "\n",
    "# Asegurarnos de que d2025 también sea Int64\n",
    "d2025[\"ch15\"] = d2025[\"ch15\"].astype('Int64')\n",
    "\n",
    "# Verificación\n",
    "print(\"d2005['ch15'] dtype:\", d2005[\"ch15\"].dtype)\n",
    "print(\"d2025['ch15'] dtype:\", d2025[\"ch15\"].dtype)\n",
    "\n",
    "print(\"\\nValores únicos d2005['ch15']:\", sorted(d2005[\"ch15\"].dropna().unique()))\n",
    "print(\"Valores únicos d2025['ch15']:\", sorted(d2025[\"ch15\"].dropna().unique()))\n"
   ]
  },
  {
   "cell_type": "code",
   "execution_count": 37,
   "id": "28e7381c-1cad-48cd-9823-847efcee1250",
   "metadata": {},
   "outputs": [],
   "source": [
    "d2025[\"ch15\"] = d2025[\"ch15\"].replace(9, pd.NA).astype('Int64')"
   ]
  },
  {
   "cell_type": "markdown",
   "id": "ff6ca5af-fdb9-4aae-8e86-e357a9d03b5d",
   "metadata": {},
   "source": [
    "PP02E"
   ]
  },
  {
   "cell_type": "code",
   "execution_count": 42,
   "id": "adf35530-80b4-41ba-a16f-e87bfb0330bd",
   "metadata": {},
   "outputs": [
    {
     "name": "stdout",
     "output_type": "stream",
     "text": [
      "d2005: category\n",
      "d2025: int64\n",
      "Valores únicos en d2005:\n",
      "[0.0, 'Por otras razones', 'Se cansó de buscar trabajo', 'Hay poco trabajo en esta época del año']\n",
      "Categories (6, object): [0.0 < 'Está suspendido' < 'Ya tiene trabajo asegurado' < 'Se cansó de buscar trabajo' < 'Hay poco trabajo en esta época del año' < 'Por otras razones']\n",
      "\n",
      "Valores únicos en d2025:\n",
      "[0 4 5 3 2]\n"
     ]
    }
   ],
   "source": [
    "print(\"d2005:\", d2005[\"pp02e\"].dtype)\n",
    "print(\"d2025:\", d2025[\"pp02e\"].dtype)\n",
    "\n",
    "print(\"Valores únicos en d2005:\")\n",
    "print(d2005[\"pp02e\"].unique())\n",
    "\n",
    "print(\"\\nValores únicos en d2025:\")\n",
    "print(d2025[\"pp02e\"].unique())"
   ]
  },
  {
   "cell_type": "code",
   "execution_count": 43,
   "id": "944e1e01-93fb-44c8-ad23-a5899fcb715c",
   "metadata": {},
   "outputs": [
    {
     "name": "stdout",
     "output_type": "stream",
     "text": [
      "d2005['pp02e'] dtype: Int64\n",
      "d2025['pp02e'] dtype: Int64\n",
      "\n",
      "Valores únicos d2005['pp02e']: [np.int64(3), np.int64(4), np.int64(5)]\n",
      "Valores únicos d2025['pp02e']: [np.int64(0), np.int64(2), np.int64(3), np.int64(4), np.int64(5)]\n"
     ]
    }
   ],
   "source": [
    "# Definir mapeo de d2005 a números según d2025\n",
    "map_pp02e = {\n",
    "    0.0: pd.NA,  # Si 0.0 significa \"No aplica\" o \"NS/NR\"\n",
    "    'Está suspendido': 1,\n",
    "    'Ya tiene trabajo asegurado': 2,\n",
    "    'Se cansó de buscar trabajo': 3,\n",
    "    'Hay poco trabajo en esta época del año': 4,\n",
    "    'Por otras razones': 5\n",
    "}\n",
    "\n",
    "# Aplicar el mapeo a d2005 y convertir a Int64\n",
    "d2005[\"pp02e\"] = d2005[\"pp02e\"].map(map_pp02e).astype('Int64')\n",
    "\n",
    "# Asegurarnos de que d2025 también sea Int64\n",
    "d2025[\"pp02e\"] = d2025[\"pp02e\"].astype('Int64')\n",
    "\n",
    "# Verificación\n",
    "print(\"d2005['pp02e'] dtype:\", d2005[\"pp02e\"].dtype)\n",
    "print(\"d2025['pp02e'] dtype:\", d2025[\"pp02e\"].dtype)\n",
    "\n",
    "print(\"\\nValores únicos d2005['pp02e']:\", sorted(d2005[\"pp02e\"].dropna().unique()))\n",
    "print(\"Valores únicos d2025['pp02e']:\", sorted(d2025[\"pp02e\"].dropna().unique()))\n"
   ]
  },
  {
   "cell_type": "markdown",
   "id": "9295f244-4552-4447-9d66-97a2be7b65d4",
   "metadata": {},
   "source": [
    "PP02I"
   ]
  },
  {
   "cell_type": "code",
   "execution_count": 47,
   "id": "56f53edc-321b-4586-8531-3ccb3dccf660",
   "metadata": {},
   "outputs": [
    {
     "name": "stdout",
     "output_type": "stream",
     "text": [
      "d2005: category\n",
      "d2025: int64\n",
      "Valores únicos en d2005:\n",
      "[0.0, 'No', 'Sí']\n",
      "Categories (3, object): [0.0 < 'Sí' < 'No']\n",
      "\n",
      "Valores únicos en d2025:\n",
      "[0 2 1]\n"
     ]
    }
   ],
   "source": [
    "print(\"d2005:\", d2005[\"pp02i\"].dtype)\n",
    "print(\"d2025:\", d2025[\"pp02i\"].dtype)\n",
    "\n",
    "print(\"Valores únicos en d2005:\")\n",
    "print(d2005[\"pp02i\"].unique())\n",
    "\n",
    "print(\"\\nValores únicos en d2025:\")\n",
    "print(d2025[\"pp02i\"].unique())"
   ]
  },
  {
   "cell_type": "code",
   "execution_count": 48,
   "id": "4375f864-ea9d-4369-bc62-4b681abc0422",
   "metadata": {},
   "outputs": [
    {
     "name": "stdout",
     "output_type": "stream",
     "text": [
      "d2005['pp02i'] dtype: Int64\n",
      "d2025['pp02i'] dtype: Int64\n",
      "\n",
      "Valores únicos d2005['pp02i']: [np.int64(1), np.int64(2)]\n",
      "Valores únicos d2025['pp02i']: [np.int64(0), np.int64(1), np.int64(2)]\n"
     ]
    }
   ],
   "source": [
    "# Definir mapeo de d2005 a números según d2025\n",
    "map_pp02i = {\n",
    "    0.0: pd.NA,\n",
    "    'Sí': 1,\n",
    "    'No': 2\n",
    "}\n",
    "\n",
    "# Aplicar el mapeo a d2005 y convertir a Int64\n",
    "d2005[\"pp02i\"] = d2005[\"pp02i\"].map(map_pp02i).astype('Int64')\n",
    "\n",
    "# Asegurar que d2025 sea Int64\n",
    "d2025[\"pp02i\"] = d2025[\"pp02i\"].astype('Int64')\n",
    "\n",
    "# Verificación\n",
    "print(\"d2005['pp02i'] dtype:\", d2005[\"pp02i\"].dtype)\n",
    "print(\"d2025['pp02i'] dtype:\", d2025[\"pp02i\"].dtype)\n",
    "\n",
    "print(\"\\nValores únicos d2005['pp02i']:\", sorted(d2005[\"pp02i\"].dropna().unique()))\n",
    "print(\"Valores únicos d2025['pp02i']:\", sorted(d2025[\"pp02i\"].dropna().unique()))\n"
   ]
  },
  {
   "cell_type": "code",
   "execution_count": 49,
   "id": "84400c6d-9c22-4d94-be20-1cb91953974b",
   "metadata": {},
   "outputs": [],
   "source": [
    "d2025[\"pp02i\"] = d2025[\"pp02i\"].replace(0, pd.NA).astype('Int64')"
   ]
  },
  {
   "cell_type": "code",
   "execution_count": 50,
   "id": "78554e97-65d6-4c63-b371-cc1940ca0332",
   "metadata": {},
   "outputs": [
    {
     "name": "stdout",
     "output_type": "stream",
     "text": [
      "\n",
      "Valores únicos d2005['pp02i']: [np.int64(1), np.int64(2)]\n",
      "Valores únicos d2025['pp02i']: [np.int64(1), np.int64(2)]\n"
     ]
    }
   ],
   "source": [
    "print(\"\\nValores únicos d2005['pp02i']:\", sorted(d2005[\"pp02i\"].dropna().unique()))\n",
    "print(\"Valores únicos d2025['pp02i']:\", sorted(d2025[\"pp02i\"].dropna().unique()))"
   ]
  },
  {
   "cell_type": "markdown",
   "id": "12d7ad9a-fd2b-41e1-97c7-df36b3dad02e",
   "metadata": {},
   "source": [
    "**Armamos la nueva base de datos**"
   ]
  },
  {
   "cell_type": "code",
   "execution_count": 53,
   "id": "2bc17a02-cad9-4c92-84a2-51ba60988fd8",
   "metadata": {},
   "outputs": [
    {
     "name": "stdout",
     "output_type": "stream",
     "text": [
      "Columnas de d2005 que están en la lista: ['ano4', 'ch04', 'ch06', 'ch07', 'ch08', 'nivel_ed', 'estado', 'cat_inac', 'ipcf', 'ch10', 'ch03', 'ch14', 'ch15', 'pp02e', 'pp02i', 'ch09']\n",
      "Columnas de d2005 que NO están en la lista: []\n",
      "\n",
      "Columnas de d2025 que están en la lista: ['ano4', 'ch04', 'ch06', 'ch07', 'ch08', 'nivel_ed', 'estado', 'cat_inac', 'ipcf', 'ch10', 'ch03', 'ch14', 'ch15', 'pp02e', 'pp02i', 'ch09']\n",
      "Columnas de d2025 que NO están en la lista: []\n"
     ]
    }
   ],
   "source": [
    "# Lista de columnas que querés unir\n",
    "columnas = [\"ano4\", \"ch04\", \"ch06\", \"ch07\", \"ch08\", \"nivel_ed\", \"estado\", \n",
    "            \"cat_inac\", \"ipcf\", \"ch10\", \"ch03\", \"ch14\", \"ch15\", \n",
    "            \"pp02e\", \"pp02i\", \"ch09\"]\n",
    "\n",
    "# Verificar cuáles columnas están en cada DataFrame\n",
    "print(\"Columnas de d2005 que están en la lista:\", [col for col in columnas if col in d2005.columns])\n",
    "print(\"Columnas de d2005 que NO están en la lista:\", [col for col in columnas if col not in d2005.columns])\n",
    "\n",
    "print(\"\\nColumnas de d2025 que están en la lista:\", [col for col in columnas if col in d2025.columns])\n",
    "print(\"Columnas de d2025 que NO están en la lista:\", [col for col in columnas if col not in d2025.columns])\n"
   ]
  },
  {
   "cell_type": "code",
   "execution_count": 54,
   "id": "7056116a-0564-4e8c-92d4-493da2adc321",
   "metadata": {},
   "outputs": [
    {
     "name": "stdout",
     "output_type": "stream",
     "text": [
      "(21936, 16)\n",
      "     ano4  ch04  ch06 ch07  ch08                         nivel_ed  \\\n",
      "0  2005.0     1   4.0    5     1                  Sin instrucción   \n",
      "1  2005.0     2   1.0    5    12                  Sin instrucción   \n",
      "2  2005.0     2  78.0    4     1  Superior Universitaria Completa   \n",
      "3  2005.0     1  16.0    5     1            Secundaria Incompleta   \n",
      "4  2005.0     1  -1.0    5     1                  Sin instrucción   \n",
      "\n",
      "             estado  cat_inac          ipcf  ch10  ch03  ch14  ch15  pp02e  \\\n",
      "0  Menor de 10 años       5.0  2.714908e+05     1     3     1     1   <NA>   \n",
      "1  Menor de 10 años       5.0  3.878440e+05  <NA>     3  <NA>     1   <NA>   \n",
      "2          Inactivo       1.0  3.102752e+06     2     1  <NA>     1   <NA>   \n",
      "3          Inactivo       3.0  4.217804e+05     1     3     2     1   <NA>   \n",
      "4  Menor de 10 años       5.0  5.016116e+05  <NA>     3  <NA>     1   <NA>   \n",
      "\n",
      "   pp02i  ch09  \n",
      "0   <NA>     2  \n",
      "1   <NA>     3  \n",
      "2      2     1  \n",
      "3      2     1  \n",
      "4   <NA>     3  \n",
      "         ano4  ch04  ch06 ch07  ch08 nivel_ed estado  cat_inac       ipcf  \\\n",
      "21931  2025.0     1  13.0    5     1        3      3       3.0   616000.0   \n",
      "21932  2025.0     1   9.0    5     1        1      4       3.0   616000.0   \n",
      "21933  2025.0     1  24.0    5     1        5      1       0.0  1700000.0   \n",
      "21934  2025.0     2  41.0    3     1        4      1       0.0  1600000.0   \n",
      "21935  2025.0     2  21.0    5     1        6      1       0.0  1600000.0   \n",
      "\n",
      "       ch10  ch03  ch14  ch15  pp02e  pp02i  ch09  \n",
      "21931     1     5     7     1      0      2     1  \n",
      "21932     1     5     3     1      0   <NA>     1  \n",
      "21933     1     1     4     1      0   <NA>     1  \n",
      "21934     2     1  <NA>     1      0   <NA>     1  \n",
      "21935     2     3  <NA>     1      0   <NA>     1  \n"
     ]
    }
   ],
   "source": [
    "# Seleccionamos solo esas columnas en cada DataFrame\n",
    "d2005_sel = d2005[columnas]\n",
    "d2025_sel = d2025[columnas]\n",
    "\n",
    "# Unimos los dos DataFrames por filas (append)\n",
    "df_combinado = pd.concat([d2005_sel, d2025_sel], ignore_index=True)\n",
    "\n",
    "# Verificación\n",
    "print(df_combinado.shape)\n",
    "print(df_combinado.head())\n",
    "print(df_combinado.tail())\n"
   ]
  },
  {
   "cell_type": "code",
   "execution_count": 55,
   "id": "bb10cde6-bbfb-4d51-ac8b-3a68c7a1147b",
   "metadata": {},
   "outputs": [],
   "source": [
    "# Guardar df_combinado como Excel\n",
    "df_combinado.to_excel(\"df_combinado.xlsx\", index=False)"
   ]
  },
  {
   "cell_type": "markdown",
   "id": "9a7d48ea-8357-4231-ad4a-1a516cbc1772",
   "metadata": {},
   "source": [
    "Valores faltantes:"
   ]
  },
  {
   "cell_type": "code",
   "execution_count": 57,
   "id": "65ab223b-491e-4528-8a51-19632c445295",
   "metadata": {},
   "outputs": [
    {
     "name": "stdout",
     "output_type": "stream",
     "text": [
      "Tabla de valores faltantes por año y variable:\n",
      "        ch04  ch06  ch07  ch08  nivel_ed  estado  cat_inac  ipcf  ch10  ch03  \\\n",
      "ano4                                                                           \n",
      "2005.0     0     0     0     0         0       0         0     0   412     0   \n",
      "2025.0     0     0     0     0         0       0         0     0   185     0   \n",
      "\n",
      "        ch14  ch15  pp02e  pp02i  ch09  \n",
      "ano4                                    \n",
      "2005.0  3055     1   8053   2274     0  \n",
      "2025.0  7203     2      0   8011     0  \n"
     ]
    },
    {
     "data": {
      "image/png": "[encoded data removed]",
      "text/plain": [
       "<Figure size 1200x600 with 2 Axes>"
      ]
     },
     "metadata": {},
     "output_type": "display_data"
    }
   ],
   "source": [
    "import seaborn as sns\n",
    "import matplotlib.pyplot as plt\n",
    "\n",
    "# Seleccionamos las 15 variables de interés (excluyendo ano4)\n",
    "variables = [\"ch04\", \"ch06\", \"ch07\", \"ch08\", \"nivel_ed\", \"estado\", \n",
    "             \"cat_inac\", \"ipcf\", \"ch10\", \"ch03\", \"ch14\", \"ch15\", \n",
    "             \"pp02e\", \"pp02i\", \"ch09\"]\n",
    "\n",
    "# Tabla con la cantidad de valores faltantes por variable y año\n",
    "missing_table = df_combinado.groupby('ano4')[variables].apply(lambda x: x.isna().sum())\n",
    "\n",
    "print(\"Tabla de valores faltantes por año y variable:\")\n",
    "print(missing_table)\n",
    "\n",
    "# Heatmap\n",
    "plt.figure(figsize=(12,6))\n",
    "sns.heatmap(missing_table, annot=True, fmt=\"d\", cmap=\"Reds\")\n",
    "plt.title(\"Cantidad de valores faltantes por variable y año\")\n",
    "plt.ylabel(\"Año\")\n",
    "plt.xlabel(\"Variable\")\n",
    "plt.show()"
   ]
  },
  {
   "cell_type": "markdown",
   "id": "d93946ef-2c30-430e-aedd-11aa2845cacb",
   "metadata": {},
   "source": [
    "Las variables con más valores faltantes son: \n",
    "- pp02i del 2025\n",
    "- ch14 del 2025\n",
    "- pp02e del 2005\n",
    "- ch14 del 2005"
   ]
  },
  {
   "cell_type": "markdown",
   "id": "86fef943-6ef6-4be3-925a-617d056e5e98",
   "metadata": {},
   "source": [
    "El proceso de limpieza de las variables se realizó anteriormente, guiandonos con los diccionarios de variables. Por ejemplo, cuando aparecía el valor 9, -9, 9999 se le asignó el valor Na, lo mismo ocurrió con algunas variables que presentaban el valor 0 y esta clasificación no aparecia en el diccionario. "
   ]
  },
  {
   "cell_type": "markdown",
   "id": "6493489b-1212-4bdf-bc98-deae2b8a2cca",
   "metadata": {},
   "source": [
    "**Parte II**"
   ]
  },
  {
   "cell_type": "code",
   "execution_count": 59,
   "id": "1fd8d48a-430c-49d8-9572-aba602babcd1",
   "metadata": {},
   "outputs": [
    {
     "data": {
      "image/png": "[encoded data removed]",
      "text/plain": [
       "<Figure size 800x600 with 1 Axes>"
      ]
     },
     "metadata": {},
     "output_type": "display_data"
    }
   ],
   "source": [
    "#Punto 3\n",
    "# Mapear los valores de ch04\n",
    "df_combinado['sexo'] = df_combinado['ch04'].map({1: 'Varón', 2: 'Mujer'})\n",
    "\n",
    "# Contar la cantidad de casos por sexo y año\n",
    "sexo_counts = df_combinado.groupby(['ano4', 'sexo']).size().reset_index(name='count')\n",
    "\n",
    "# Gráfico de barras\n",
    "plt.figure(figsize=(8,6))\n",
    "sns.barplot(data=sexo_counts, x='ano4', y='count', hue='sexo')\n",
    "plt.title(\"Composición por sexo en 2005 y 2025\")\n",
    "plt.xlabel(\"Año\")\n",
    "plt.ylabel(\"Cantidad de personas\")\n",
    "plt.legend(title=\"Sexo\")\n",
    "plt.show()\n",
    "\n"
   ]
  },
  {
   "cell_type": "code",
   "execution_count": 61,
   "id": "93128526-e23b-4401-b2c7-48ae9fc73aaf",
   "metadata": {},
   "outputs": [],
   "source": [
    "# Mapeo de nivel_ed desde texto a números\n",
    "map_nivel_ed_texto = {\n",
    "    \"Primario incompleto (incluye educación especial)\": 1,\n",
    "    \"Primario completo\": 2,\n",
    "    \"Secundario incompleto\": 3,\n",
    "    \"Secundario completo\": 4,\n",
    "    \"Superior y universitario incompleto\": 5,\n",
    "    \"Superior y universitario completo\": 6,\n",
    "    \"Sin instrucción\": 7,\n",
    "    \"Ns/Nr\": pd.NA  # poner NA\n",
    "}\n",
    "\n",
    "# Mapeo de estado desde texto a números\n",
    "map_estado_texto = {\n",
    "    \"Entrevista individual no realizada (no respuesta al cuestionario individual)\": pd.NA,\n",
    "    \"Ocupado\": 1,\n",
    "    \"Desocupado\": 2,\n",
    "    \"Inactivo\": 3,\n",
    "    \"Menor de 10 años\": 4\n",
    "}\n",
    "\n",
    "# Aplicarlo al DataFrame\n",
    "df_combinado['nivel ed'] = df_combinado['nivel_ed'].map(map_nivel_ed_texto)\n",
    "df_combinado['estado'] = df_combinado['estado'].map(map_estado_texto)\n"
   ]
  },
  {
   "cell_type": "code",
   "execution_count": 62,
   "id": "ae4ee1f6-4850-4500-bfe3-e8ef280e3fa6",
   "metadata": {},
   "outputs": [
    {
     "ename": "ValueError",
     "evalue": "could not convert string to float: 'Sin instrucción'",
     "output_type": "error",
     "traceback": [
      "\u001b[1;31m---------------------------------------------------------------------------\u001b[0m",
      "\u001b[1;31mValueError\u001b[0m                                Traceback (most recent call last)",
      "Cell \u001b[1;32mIn[62], line 27\u001b[0m\n\u001b[0;32m     24\u001b[0m df2005[\u001b[38;5;124m'\u001b[39m\u001b[38;5;124msexo\u001b[39m\u001b[38;5;124m'\u001b[39m] \u001b[38;5;241m=\u001b[39m df2005[\u001b[38;5;124m'\u001b[39m\u001b[38;5;124msexo\u001b[39m\u001b[38;5;124m'\u001b[39m]\u001b[38;5;241m.\u001b[39mmap({\u001b[38;5;241m1\u001b[39m: \u001b[38;5;241m0\u001b[39m, \u001b[38;5;241m2\u001b[39m: \u001b[38;5;241m1\u001b[39m})\n\u001b[0;32m     26\u001b[0m \u001b[38;5;66;03m# Calcular matriz de correlación\u001b[39;00m\n\u001b[1;32m---> 27\u001b[0m corr2005 \u001b[38;5;241m=\u001b[39m df2005\u001b[38;5;241m.\u001b[39mcorr()\n\u001b[0;32m     29\u001b[0m \u001b[38;5;66;03m# Graficar\u001b[39;00m\n\u001b[0;32m     30\u001b[0m plt\u001b[38;5;241m.\u001b[39mfigure(figsize\u001b[38;5;241m=\u001b[39m(\u001b[38;5;241m10\u001b[39m,\u001b[38;5;241m8\u001b[39m))\n",
      "File \u001b[1;32m~\\anaconda3\\Lib\\site-packages\\pandas\\core\\frame.py:11049\u001b[0m, in \u001b[0;36mDataFrame.corr\u001b[1;34m(self, method, min_periods, numeric_only)\u001b[0m\n\u001b[0;32m  11047\u001b[0m cols \u001b[38;5;241m=\u001b[39m data\u001b[38;5;241m.\u001b[39mcolumns\n\u001b[0;32m  11048\u001b[0m idx \u001b[38;5;241m=\u001b[39m cols\u001b[38;5;241m.\u001b[39mcopy()\n\u001b[1;32m> 11049\u001b[0m mat \u001b[38;5;241m=\u001b[39m data\u001b[38;5;241m.\u001b[39mto_numpy(dtype\u001b[38;5;241m=\u001b[39m\u001b[38;5;28mfloat\u001b[39m, na_value\u001b[38;5;241m=\u001b[39mnp\u001b[38;5;241m.\u001b[39mnan, copy\u001b[38;5;241m=\u001b[39m\u001b[38;5;28;01mFalse\u001b[39;00m)\n\u001b[0;32m  11051\u001b[0m \u001b[38;5;28;01mif\u001b[39;00m method \u001b[38;5;241m==\u001b[39m \u001b[38;5;124m\"\u001b[39m\u001b[38;5;124mpearson\u001b[39m\u001b[38;5;124m\"\u001b[39m:\n\u001b[0;32m  11052\u001b[0m     correl \u001b[38;5;241m=\u001b[39m libalgos\u001b[38;5;241m.\u001b[39mnancorr(mat, minp\u001b[38;5;241m=\u001b[39mmin_periods)\n",
      "File \u001b[1;32m~\\anaconda3\\Lib\\site-packages\\pandas\\core\\frame.py:1993\u001b[0m, in \u001b[0;36mDataFrame.to_numpy\u001b[1;34m(self, dtype, copy, na_value)\u001b[0m\n\u001b[0;32m   1991\u001b[0m \u001b[38;5;28;01mif\u001b[39;00m dtype \u001b[38;5;129;01mis\u001b[39;00m \u001b[38;5;129;01mnot\u001b[39;00m \u001b[38;5;28;01mNone\u001b[39;00m:\n\u001b[0;32m   1992\u001b[0m     dtype \u001b[38;5;241m=\u001b[39m np\u001b[38;5;241m.\u001b[39mdtype(dtype)\n\u001b[1;32m-> 1993\u001b[0m result \u001b[38;5;241m=\u001b[39m \u001b[38;5;28mself\u001b[39m\u001b[38;5;241m.\u001b[39m_mgr\u001b[38;5;241m.\u001b[39mas_array(dtype\u001b[38;5;241m=\u001b[39mdtype, copy\u001b[38;5;241m=\u001b[39mcopy, na_value\u001b[38;5;241m=\u001b[39mna_value)\n\u001b[0;32m   1994\u001b[0m \u001b[38;5;28;01mif\u001b[39;00m result\u001b[38;5;241m.\u001b[39mdtype \u001b[38;5;129;01mis\u001b[39;00m \u001b[38;5;129;01mnot\u001b[39;00m dtype:\n\u001b[0;32m   1995\u001b[0m     result \u001b[38;5;241m=\u001b[39m np\u001b[38;5;241m.\u001b[39masarray(result, dtype\u001b[38;5;241m=\u001b[39mdtype)\n",
      "File \u001b[1;32m~\\anaconda3\\Lib\\site-packages\\pandas\\core\\internals\\managers.py:1694\u001b[0m, in \u001b[0;36mBlockManager.as_array\u001b[1;34m(self, dtype, copy, na_value)\u001b[0m\n\u001b[0;32m   1692\u001b[0m         arr\u001b[38;5;241m.\u001b[39mflags\u001b[38;5;241m.\u001b[39mwriteable \u001b[38;5;241m=\u001b[39m \u001b[38;5;28;01mFalse\u001b[39;00m\n\u001b[0;32m   1693\u001b[0m \u001b[38;5;28;01melse\u001b[39;00m:\n\u001b[1;32m-> 1694\u001b[0m     arr \u001b[38;5;241m=\u001b[39m \u001b[38;5;28mself\u001b[39m\u001b[38;5;241m.\u001b[39m_interleave(dtype\u001b[38;5;241m=\u001b[39mdtype, na_value\u001b[38;5;241m=\u001b[39mna_value)\n\u001b[0;32m   1695\u001b[0m     \u001b[38;5;66;03m# The underlying data was copied within _interleave, so no need\u001b[39;00m\n\u001b[0;32m   1696\u001b[0m     \u001b[38;5;66;03m# to further copy if copy=True or setting na_value\u001b[39;00m\n\u001b[0;32m   1698\u001b[0m \u001b[38;5;28;01mif\u001b[39;00m na_value \u001b[38;5;129;01mis\u001b[39;00m lib\u001b[38;5;241m.\u001b[39mno_default:\n",
      "File \u001b[1;32m~\\anaconda3\\Lib\\site-packages\\pandas\\core\\internals\\managers.py:1753\u001b[0m, in \u001b[0;36mBlockManager._interleave\u001b[1;34m(self, dtype, na_value)\u001b[0m\n\u001b[0;32m   1751\u001b[0m     \u001b[38;5;28;01melse\u001b[39;00m:\n\u001b[0;32m   1752\u001b[0m         arr \u001b[38;5;241m=\u001b[39m blk\u001b[38;5;241m.\u001b[39mget_values(dtype)\n\u001b[1;32m-> 1753\u001b[0m     result[rl\u001b[38;5;241m.\u001b[39mindexer] \u001b[38;5;241m=\u001b[39m arr\n\u001b[0;32m   1754\u001b[0m     itemmask[rl\u001b[38;5;241m.\u001b[39mindexer] \u001b[38;5;241m=\u001b[39m \u001b[38;5;241m1\u001b[39m\n\u001b[0;32m   1756\u001b[0m \u001b[38;5;28;01mif\u001b[39;00m \u001b[38;5;129;01mnot\u001b[39;00m itemmask\u001b[38;5;241m.\u001b[39mall():\n",
      "\u001b[1;31mValueError\u001b[0m: could not convert string to float: 'Sin instrucción'"
     ]
    }
   ],
   "source": [
    "#Punto 4\n",
    "import pandas as pd\n",
    "import seaborn as sns\n",
    "import matplotlib.pyplot as plt\n",
    "\n",
    "# Variables de interés\n",
    "vars_corr = [\"ch04\", \"ch06\", \"ch07\", \"ch08\", \"nivel_ed\", \"estado\", \"cat_inac\", \"ipcf\"]\n",
    "\n",
    "# --- RENOMBRAR COLUMNAS ---\n",
    "rename_dict = {\n",
    "    \"ch04\": \"sexo\",\n",
    "    \"ch06\": \"anos\",\n",
    "    \"ch07\": \"estado_civil\",\n",
    "    \"ch08\": \"cob_medica\"\n",
    "    # las demás se dejan igual\n",
    "}\n",
    "\n",
    "# --- PARA 2005 ---\n",
    "df2005 = df_combinado[df_combinado['ano4'] == 2005][vars_corr].rename(columns=rename_dict)\n",
    "\n",
    "# Convertir ch04/sexo en dummy (0/1) si no está ya\n",
    "# Consideramos que 1 = varón, 2 = mujer\n",
    "# Entonces: varón=0, mujer=1 (podés ajustar según prefieras)\n",
    "df2005['sexo'] = df2005['sexo'].map({1: 0, 2: 1})\n",
    "\n",
    "# Calcular matriz de correlación\n",
    "corr2005 = df2005.corr()\n",
    "\n",
    "# Graficar\n",
    "plt.figure(figsize=(10,8))\n",
    "sns.heatmap(corr2005, annot=True, cmap=\"coolwarm\", center=0)\n",
    "plt.title(\"Matriz de correlación 2005\")\n",
    "plt.show()\n",
    "\n",
    "\n",
    "# --- PARA 2025 ---\n",
    "df2025 = df_combinado[df_combinado['ano4'] == 2025][vars_corr].rename(columns=rename_dict)\n",
    "\n",
    "# Dummy para sexo\n",
    "df2025['sexo'] = df2025['sexo'].map({1: 0, 2: 1})\n",
    "\n",
    "# Matriz de correlación\n",
    "corr2025 = df2025.corr()\n",
    "\n",
    "# Graficar\n",
    "plt.figure(figsize=(10,8))\n",
    "sns.heatmap(corr2025, annot=True, cmap=\"coolwarm\", center=0)\n",
    "plt.title(\"Matriz de correlación 2025\")\n",
    "plt.show()\n"
   ]
  }
 ],
 "metadata": {
  "kernelspec": {
   "display_name": "Python 3 (ipykernel)",
   "language": "python",
   "name": "python3"
  },
  "language_info": {
   "codemirror_mode": {
    "name": "ipython",
    "version": 3
   },
   "file_extension": ".py",
   "mimetype": "text/x-python",
   "name": "python",
   "nbconvert_exporter": "python",
   "pygments_lexer": "ipython3",
   "version": "3.13.5"
  }
 },
 "nbformat": 4,
 "nbformat_minor": 5
}
