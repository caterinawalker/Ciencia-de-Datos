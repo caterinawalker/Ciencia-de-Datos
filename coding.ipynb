{
 "cells": [
  {
   "cell_type": "code",
   "execution_count": 10,
   "id": "f6722784",
   "metadata": {},
   "outputs": [
    {
     "name": "stdout",
     "output_type": "stream",
     "text": [
      "                          CODUSU  ANO4  TRIMESTRE  NRO_HOGAR  COMPONENTE  H15  \\\n",
      "0  TQRMNOVQVHJOLOCDEFKID00875778  2025          1          1           2    1   \n",
      "1  TQRMNOVQVHJOLOCDEFKID00875778  2025          1          1           3    0   \n",
      "2  TQRMNOVQVHJOLOCDEFKID00875778  2025          1          1           4    0   \n",
      "3  TQRMNOVQVHJOLOCDEFKID00875778  2025          1          1           5    0   \n",
      "4  TQRMNOUPQHLOLOCDEFKID00851757  2025          1          1           1    1   \n",
      "\n",
      "   REGION MAS_500  AGLOMERADO  PONDERA  ...  V21_03_M  V22_01_M V22_02_M  \\\n",
      "0      43       S           4      927  ...         0         0        0   \n",
      "1      43       S           4      927  ...         0         0        0   \n",
      "2      43       S           4      927  ...         0         0        0   \n",
      "3      43       S           4      927  ...         0         0        0   \n",
      "4      43       S           4     1294  ...         0         0        0   \n",
      "\n",
      "   V22_03_M  P_DECCF  P_RDECCF  P_GDECCF  P_PDECCF  P_IDECCF  P_ADECCF  \n",
      "0         0      3.0       2.0       3.0       NaN       3.0       2.0  \n",
      "1         0      3.0       2.0       3.0       NaN       3.0       2.0  \n",
      "2         0      3.0       2.0       3.0       NaN       3.0       2.0  \n",
      "3         0      3.0       2.0       3.0       NaN       3.0       2.0  \n",
      "4         0      3.0       3.0       3.0       NaN       3.0       3.0  \n",
      "\n",
      "[5 rows x 235 columns]\n"
     ]
    }
   ],
   "source": [
    "import pandas as pd\n",
    "\n",
    "\n",
    "df = pd.read_excel(r\"C:\\Users\\loloa\\OneDrive\\Escritorio\\facu\\Ciencia de datos\\tp\\Ciencia-de-Datos\\usu_individual_T125.xlsx\") # reemplazar x la ruta de cada uno\n",
    "\n",
    "print(df.head())\n",
    "\n"
   ]
  },
  {
   "cell_type": "code",
   "execution_count": null,
   "id": "212258b0",
   "metadata": {},
   "outputs": [
    {
     "name": "stdout",
     "output_type": "stream",
     "text": [
      "     CODUSU  nro_hogar componente  h15    ano4       trimestre  \\\n",
      "0  125098          1.0        1.0   Sí  2005.0  1er. Trimestre   \n",
      "1  125188          1.0        1.0   Sí  2005.0  1er. Trimestre   \n",
      "2  125188          1.0        2.0   Sí  2005.0  1er. Trimestre   \n",
      "3  125188          1.0        3.0  0.0  2005.0  1er. Trimestre   \n",
      "4  125242          1.0        1.0   Sí  2005.0  1er. Trimestre   \n",
      "\n",
      "              region mas_500              aglomerado  pondera  ... deccfr  \\\n",
      "0  Gran Buenos Aires       S  Ciudad de Buenos Aires   1017.0  ...     08   \n",
      "1  Gran Buenos Aires       S  Ciudad de Buenos Aires   1062.0  ...     02   \n",
      "2  Gran Buenos Aires       S  Ciudad de Buenos Aires   1062.0  ...     02   \n",
      "3  Gran Buenos Aires       S  Ciudad de Buenos Aires   1062.0  ...     02   \n",
      "4  Gran Buenos Aires       S  Ciudad de Buenos Aires   1103.0  ...     09   \n",
      "\n",
      "  ideccfr rdeccfr gdeccfr pdeccfr adeccfr pj1_1 pj2_1 pj3_1 idimpp  \n",
      "0              07      08              05   0.0   0.0   0.0  00000  \n",
      "1              02      02              01   0.0   0.0   0.0  40020  \n",
      "2              02      02              01   0.0   0.0   0.0  00000  \n",
      "3              02      02              01   0.0   0.0   0.0  00000  \n",
      "4              09      09              07   0.0   0.0   0.0  00000  \n",
      "\n",
      "[5 rows x 176 columns]\n"
     ]
    }
   ],
   "source": [
    "statta = pd.read_stata(r\"C:\\Users\\loloa\\OneDrive\\Escritorio\\facu\\Ciencia de datos\\tp\\Ciencia-de-Datos\\Individual_t105.dta\")\n",
    "print(statta.head())\n"
   ]
  },
  {
   "cell_type": "code",
   "execution_count": null,
   "id": "be2fb037",
   "metadata": {},
   "outputs": [
    {
     "name": "stdout",
     "output_type": "stream",
     "text": [
      "Index(['CODUSU', 'nro_hogar', 'componente', 'h15', 'ano4', 'trimestre',\n",
      "       'region', 'mas_500', 'aglomerado', 'pondera',\n",
      "       ...\n",
      "       'deccfr', 'ideccfr', 'rdeccfr', 'gdeccfr', 'pdeccfr', 'adeccfr',\n",
      "       'pj1_1', 'pj2_1', 'pj3_1', 'idimpp'],\n",
      "      dtype='object', length=176)\n",
      "(47030, 176)\n",
      "['Gran Buenos Aires', 'NOA', 'NEA', 'Cuyo', 'Pampeana', 'Patagónica']\n",
      "Categories (6, object): ['Gran Buenos Aires' < 'NOA' < 'NEA' < 'Cuyo' < 'Pampeana' < 'Patagónica']\n"
     ]
    }
   ],
   "source": [
    "print(statta.columns)  # Mostrar las columnas del DataFrame\n",
    "print(statta.shape)    # Mostrar la forma del DataFrame (filas, columnas)\n",
    "print(statta[\"region\"].unique())\n"
   ]
  },
  {
   "cell_type": "code",
   "execution_count": null,
   "id": "c643b218",
   "metadata": {},
   "outputs": [
    {
     "name": "stdout",
     "output_type": "stream",
     "text": [
      "Index(['CODUSU', 'ANO4', 'TRIMESTRE', 'NRO_HOGAR', 'COMPONENTE', 'H15',\n",
      "       'REGION', 'MAS_500', 'AGLOMERADO', 'PONDERA',\n",
      "       ...\n",
      "       'V21_03_M', 'V22_01_M', 'V22_02_M', 'V22_03_M', 'P_DECCF', 'P_RDECCF',\n",
      "       'P_GDECCF', 'P_PDECCF', 'P_IDECCF', 'P_ADECCF'],\n",
      "      dtype='object', length=235)\n",
      "(45425, 235)\n",
      "[43 41 42 40 44  1]\n"
     ]
    }
   ],
   "source": [
    "print(df.columns)  # Mostrar las columnas del DataFrame\n",
    "print(df.shape)    # Mostrar la forma del DataFrame (filas, columnas)\n",
    "print(df[\"REGION\"].unique()) \n",
    "#43 es pampeana\n"
   ]
  },
  {
   "cell_type": "code",
   "execution_count": 19,
   "id": "64c5aadb",
   "metadata": {},
   "outputs": [
    {
     "name": "stdout",
     "output_type": "stream",
     "text": [
      "                          CODUSU  ANO4  TRIMESTRE  NRO_HOGAR  COMPONENTE  H15  \\\n",
      "0  TQRMNOVQVHJOLOCDEFKID00875778  2025          1          1           2    1   \n",
      "1  TQRMNOVQVHJOLOCDEFKID00875778  2025          1          1           3    0   \n",
      "2  TQRMNOVQVHJOLOCDEFKID00875778  2025          1          1           4    0   \n",
      "3  TQRMNOVQVHJOLOCDEFKID00875778  2025          1          1           5    0   \n",
      "4  TQRMNOUPQHLOLOCDEFKID00851757  2025          1          1           1    1   \n",
      "\n",
      "   REGION MAS_500  AGLOMERADO  PONDERA  ...  V21_03_M  V22_01_M V22_02_M  \\\n",
      "0      43       S           4      927  ...         0         0        0   \n",
      "1      43       S           4      927  ...         0         0        0   \n",
      "2      43       S           4      927  ...         0         0        0   \n",
      "3      43       S           4      927  ...         0         0        0   \n",
      "4      43       S           4     1294  ...         0         0        0   \n",
      "\n",
      "   V22_03_M  P_DECCF  P_RDECCF  P_GDECCF  P_PDECCF  P_IDECCF  P_ADECCF  \n",
      "0         0      3.0       2.0       3.0       NaN       3.0       2.0  \n",
      "1         0      3.0       2.0       3.0       NaN       3.0       2.0  \n",
      "2         0      3.0       2.0       3.0       NaN       3.0       2.0  \n",
      "3         0      3.0       2.0       3.0       NaN       3.0       2.0  \n",
      "4         0      3.0       3.0       3.0       NaN       3.0       3.0  \n",
      "\n",
      "[5 rows x 235 columns]\n",
      "         CODUSU  nro_hogar componente  h15    ano4       trimestre    region  \\\n",
      "29150  125082          1.0        1.0   Sí  2005.0  1er. Trimestre  Pampeana   \n",
      "29151  125082          1.0        2.0   Sí  2005.0  1er. Trimestre  Pampeana   \n",
      "29152  125082          1.0        3.0  0.0  2005.0  1er. Trimestre  Pampeana   \n",
      "29153  125283          1.0        1.0   Sí  2005.0  1er. Trimestre  Pampeana   \n",
      "29154  125283          1.0        2.0   Sí  2005.0  1er. Trimestre  Pampeana   \n",
      "\n",
      "      mas_500     aglomerado  pondera  ... deccfr ideccfr rdeccfr gdeccfr  \\\n",
      "29150       S  Gran La Plata    377.0  ...     05      05      04      04   \n",
      "29151       S  Gran La Plata    377.0  ...     05      05      04      04   \n",
      "29152       S  Gran La Plata    377.0  ...     05      05      04      04   \n",
      "29153       S  Gran La Plata    283.0  ...     10      10      10      09   \n",
      "29154       S  Gran La Plata    283.0  ...     10      10      10      09   \n",
      "\n",
      "      pdeccfr adeccfr pj1_1 pj2_1 pj3_1 idimpp  \n",
      "29150              04   0.0   0.0   0.0  00000  \n",
      "29151              04   0.0   0.0   0.0  00000  \n",
      "29152              04   0.0   0.0   0.0  00000  \n",
      "29153              09   0.0   0.0   0.0  20000  \n",
      "29154              09   0.0   0.0   0.0  21000  \n",
      "\n",
      "[5 rows x 176 columns]\n"
     ]
    }
   ],
   "source": [
    "df_pampeana2025 = df[df['REGION'] == 43]\n",
    "print(df_pampeana2025.head())\n",
    "\n",
    "statta_pampeana2005 = statta[statta['region'] ==\"Pampeana\"]\n",
    "print(statta_pampeana2005.head())"
   ]
  },
  {
   "cell_type": "code",
   "execution_count": 27,
   "id": "b28e02bf",
   "metadata": {},
   "outputs": [
    {
     "name": "stdout",
     "output_type": "stream",
     "text": [
      "                          codusu  ano4  trimestre  nro_hogar  componente  h15  \\\n",
      "0  TQRMNOVQVHJOLOCDEFKID00875778  2025          1          1           2    1   \n",
      "1  TQRMNOVQVHJOLOCDEFKID00875778  2025          1          1           3    0   \n",
      "2  TQRMNOVQVHJOLOCDEFKID00875778  2025          1          1           4    0   \n",
      "3  TQRMNOVQVHJOLOCDEFKID00875778  2025          1          1           5    0   \n",
      "4  TQRMNOUPQHLOLOCDEFKID00851757  2025          1          1           1    1   \n",
      "\n",
      "   region mas_500  aglomerado  pondera  ...  v21_03_m  v22_01_m v22_02_m  \\\n",
      "0      43       S           4      927  ...         0         0        0   \n",
      "1      43       S           4      927  ...         0         0        0   \n",
      "2      43       S           4      927  ...         0         0        0   \n",
      "3      43       S           4      927  ...         0         0        0   \n",
      "4      43       S           4     1294  ...         0         0        0   \n",
      "\n",
      "   v22_03_m  p_deccf  p_rdeccf  p_gdeccf  p_pdeccf  p_ideccf  p_adeccf  \n",
      "0         0      3.0       2.0       3.0       NaN       3.0       2.0  \n",
      "1         0      3.0       2.0       3.0       NaN       3.0       2.0  \n",
      "2         0      3.0       2.0       3.0       NaN       3.0       2.0  \n",
      "3         0      3.0       2.0       3.0       NaN       3.0       2.0  \n",
      "4         0      3.0       3.0       3.0       NaN       3.0       3.0  \n",
      "\n",
      "[5 rows x 235 columns]\n"
     ]
    }
   ],
   "source": [
    "df_pampeana2025.columns = df_pampeana2025.columns.str.lower()\n",
    "print(df_pampeana2025.head())"
   ]
  },
  {
   "cell_type": "code",
   "execution_count": null,
   "id": "f3646ff9",
   "metadata": {
    "vscode": {
     "languageId": "r"
    }
   },
   "outputs": [],
   "source": [
    "# Verificar si los nombres de columnas son iguales entre ambos DataFrames\n",
    "same_columns = set(df_pampeana2025.columns) == set(statta_pampeana2005.columns)\n",
    "print(\"¿Tienen los mismos nombres de columnas?:\", same_columns)\n",
    "\n",
    "# Mostrar las diferencias si no son iguales\n",
    "if not same_columns:\n",
    "    print(\"Columnas en df_pampeana2025 y no en statta_pampeana2005:\", set(df_pampeana2025.columns) - set(statta_pampeana2005.columns))\n",
    "    print(\"Columnas en statta_pampeana2005 y no en df_pampeana2025:\", set(statta_pampeana2005.columns) - set(df_pampeana2025.columns))"
   ]
  },
  {
   "cell_type": "code",
   "execution_count": null,
   "id": "bf9bf8ec",
   "metadata": {},
   "outputs": [],
   "source": [
    "pd.concat([df_pampeana2025, statta_pampeana2005], axis=1)"
   ]
  }
 ],
 "metadata": {
  "kernelspec": {
   "display_name": "base",
   "language": "python",
   "name": "python3"
  },
  "language_info": {
   "codemirror_mode": {
    "name": "ipython",
    "version": 3
   },
   "file_extension": ".py",
   "mimetype": "text/x-python",
   "name": "python",
   "nbconvert_exporter": "python",
   "pygments_lexer": "ipython3",
   "version": "3.13.5"
  }
 },
 "nbformat": 4,
 "nbformat_minor": 5
}
