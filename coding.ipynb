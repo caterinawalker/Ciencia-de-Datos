{
 "cells": [
  {
   "cell_type": "code",
   "execution_count": 2,
   "id": "f6722784",
   "metadata": {},
   "outputs": [
    {
     "name": "stdout",
     "output_type": "stream",
     "text": [
      "                          CODUSU  ANO4  TRIMESTRE  NRO_HOGAR  COMPONENTE  H15  \\\n",
      "0  TQRMNOVQVHJOLOCDEFKID00875778  2025          1          1           2    1   \n",
      "1  TQRMNOVQVHJOLOCDEFKID00875778  2025          1          1           3    0   \n",
      "2  TQRMNOVQVHJOLOCDEFKID00875778  2025          1          1           4    0   \n",
      "3  TQRMNOVQVHJOLOCDEFKID00875778  2025          1          1           5    0   \n",
      "4  TQRMNOUPQHLOLOCDEFKID00851757  2025          1          1           1    1   \n",
      "\n",
      "   REGION MAS_500  AGLOMERADO  PONDERA  ...  V21_03_M  V22_01_M V22_02_M  \\\n",
      "0      43       S           4      927  ...         0         0        0   \n",
      "1      43       S           4      927  ...         0         0        0   \n",
      "2      43       S           4      927  ...         0         0        0   \n",
      "3      43       S           4      927  ...         0         0        0   \n",
      "4      43       S           4     1294  ...         0         0        0   \n",
      "\n",
      "   V22_03_M  P_DECCF  P_RDECCF  P_GDECCF  P_PDECCF  P_IDECCF  P_ADECCF  \n",
      "0         0      3.0       2.0       3.0       NaN       3.0       2.0  \n",
      "1         0      3.0       2.0       3.0       NaN       3.0       2.0  \n",
      "2         0      3.0       2.0       3.0       NaN       3.0       2.0  \n",
      "3         0      3.0       2.0       3.0       NaN       3.0       2.0  \n",
      "4         0      3.0       3.0       3.0       NaN       3.0       3.0  \n",
      "\n",
      "[5 rows x 235 columns]\n"
     ]
    }
   ],
   "source": [
    "import pandas as pd\n",
    "\n",
    "\n",
    "df = pd.read_excel(r\"C:\\Users\\loloa\\OneDrive\\Escritorio\\facu\\Ciencia de datos\\tp\\Ciencia-de-Datos\\usu_individual_T125.xlsx\") # reemplazar x la ruta de cada uno\n",
    "\n",
    "print(df.head())\n",
    "\n"
   ]
  },
  {
   "cell_type": "code",
   "execution_count": 3,
   "id": "212258b0",
   "metadata": {},
   "outputs": [
    {
     "name": "stdout",
     "output_type": "stream",
     "text": [
      "     CODUSU  nro_hogar componente  h15    ano4       trimestre  \\\n",
      "0  125098          1.0        1.0   Sí  2005.0  1er. Trimestre   \n",
      "1  125188          1.0        1.0   Sí  2005.0  1er. Trimestre   \n",
      "2  125188          1.0        2.0   Sí  2005.0  1er. Trimestre   \n",
      "3  125188          1.0        3.0  0.0  2005.0  1er. Trimestre   \n",
      "4  125242          1.0        1.0   Sí  2005.0  1er. Trimestre   \n",
      "\n",
      "              region mas_500              aglomerado  pondera  ... deccfr  \\\n",
      "0  Gran Buenos Aires       S  Ciudad de Buenos Aires   1017.0  ...     08   \n",
      "1  Gran Buenos Aires       S  Ciudad de Buenos Aires   1062.0  ...     02   \n",
      "2  Gran Buenos Aires       S  Ciudad de Buenos Aires   1062.0  ...     02   \n",
      "3  Gran Buenos Aires       S  Ciudad de Buenos Aires   1062.0  ...     02   \n",
      "4  Gran Buenos Aires       S  Ciudad de Buenos Aires   1103.0  ...     09   \n",
      "\n",
      "  ideccfr rdeccfr gdeccfr pdeccfr adeccfr pj1_1 pj2_1 pj3_1 idimpp  \n",
      "0              07      08              05   0.0   0.0   0.0  00000  \n",
      "1              02      02              01   0.0   0.0   0.0  40020  \n",
      "2              02      02              01   0.0   0.0   0.0  00000  \n",
      "3              02      02              01   0.0   0.0   0.0  00000  \n",
      "4              09      09              07   0.0   0.0   0.0  00000  \n",
      "\n",
      "[5 rows x 176 columns]\n"
     ]
    }
   ],
   "source": [
    "statta = pd.read_stata(r\"C:\\Users\\loloa\\OneDrive\\Escritorio\\facu\\Ciencia de datos\\tp\\Ciencia-de-Datos\\Individual_t105.dta\")\n",
    "print(statta.head())\n"
   ]
  },
  {
   "cell_type": "code",
   "execution_count": 4,
   "id": "be2fb037",
   "metadata": {},
   "outputs": [
    {
     "name": "stdout",
     "output_type": "stream",
     "text": [
      "Index(['CODUSU', 'nro_hogar', 'componente', 'h15', 'ano4', 'trimestre',\n",
      "       'region', 'mas_500', 'aglomerado', 'pondera',\n",
      "       ...\n",
      "       'deccfr', 'ideccfr', 'rdeccfr', 'gdeccfr', 'pdeccfr', 'adeccfr',\n",
      "       'pj1_1', 'pj2_1', 'pj3_1', 'idimpp'],\n",
      "      dtype='object', length=176)\n",
      "(47030, 176)\n",
      "['Gran Buenos Aires', 'NOA', 'NEA', 'Cuyo', 'Pampeana', 'Patagónica']\n",
      "Categories (6, object): ['Gran Buenos Aires' < 'NOA' < 'NEA' < 'Cuyo' < 'Pampeana' < 'Patagónica']\n"
     ]
    }
   ],
   "source": [
    "print(statta.columns)  # Mostrar las columnas del DataFrame\n",
    "print(statta.shape)    # Mostrar la forma del DataFrame (filas, columnas)\n",
    "print(statta[\"region\"].unique())\n"
   ]
  },
  {
   "cell_type": "code",
   "execution_count": 5,
   "id": "c643b218",
   "metadata": {},
   "outputs": [
    {
     "name": "stdout",
     "output_type": "stream",
     "text": [
      "Index(['CODUSU', 'ANO4', 'TRIMESTRE', 'NRO_HOGAR', 'COMPONENTE', 'H15',\n",
      "       'REGION', 'MAS_500', 'AGLOMERADO', 'PONDERA',\n",
      "       ...\n",
      "       'V21_03_M', 'V22_01_M', 'V22_02_M', 'V22_03_M', 'P_DECCF', 'P_RDECCF',\n",
      "       'P_GDECCF', 'P_PDECCF', 'P_IDECCF', 'P_ADECCF'],\n",
      "      dtype='object', length=235)\n",
      "(45425, 235)\n",
      "[43 41 42 40 44  1]\n"
     ]
    }
   ],
   "source": [
    "print(df.columns)  # Mostrar las columnas del DataFrame\n",
    "print(df.shape)    # Mostrar la forma del DataFrame (filas, columnas)\n",
    "print(df[\"REGION\"].unique()) \n",
    "#43 es pampeana\n"
   ]
  },
  {
   "cell_type": "code",
   "execution_count": 6,
   "id": "64c5aadb",
   "metadata": {},
   "outputs": [
    {
     "name": "stdout",
     "output_type": "stream",
     "text": [
      "                          CODUSU  ANO4  TRIMESTRE  NRO_HOGAR  COMPONENTE  H15  \\\n",
      "0  TQRMNOVQVHJOLOCDEFKID00875778  2025          1          1           2    1   \n",
      "1  TQRMNOVQVHJOLOCDEFKID00875778  2025          1          1           3    0   \n",
      "2  TQRMNOVQVHJOLOCDEFKID00875778  2025          1          1           4    0   \n",
      "3  TQRMNOVQVHJOLOCDEFKID00875778  2025          1          1           5    0   \n",
      "4  TQRMNOUPQHLOLOCDEFKID00851757  2025          1          1           1    1   \n",
      "\n",
      "   REGION MAS_500  AGLOMERADO  PONDERA  ...  V21_03_M  V22_01_M V22_02_M  \\\n",
      "0      43       S           4      927  ...         0         0        0   \n",
      "1      43       S           4      927  ...         0         0        0   \n",
      "2      43       S           4      927  ...         0         0        0   \n",
      "3      43       S           4      927  ...         0         0        0   \n",
      "4      43       S           4     1294  ...         0         0        0   \n",
      "\n",
      "   V22_03_M  P_DECCF  P_RDECCF  P_GDECCF  P_PDECCF  P_IDECCF  P_ADECCF  \n",
      "0         0      3.0       2.0       3.0       NaN       3.0       2.0  \n",
      "1         0      3.0       2.0       3.0       NaN       3.0       2.0  \n",
      "2         0      3.0       2.0       3.0       NaN       3.0       2.0  \n",
      "3         0      3.0       2.0       3.0       NaN       3.0       2.0  \n",
      "4         0      3.0       3.0       3.0       NaN       3.0       3.0  \n",
      "\n",
      "[5 rows x 235 columns]\n",
      "         CODUSU  nro_hogar componente  h15    ano4       trimestre    region  \\\n",
      "29150  125082          1.0        1.0   Sí  2005.0  1er. Trimestre  Pampeana   \n",
      "29151  125082          1.0        2.0   Sí  2005.0  1er. Trimestre  Pampeana   \n",
      "29152  125082          1.0        3.0  0.0  2005.0  1er. Trimestre  Pampeana   \n",
      "29153  125283          1.0        1.0   Sí  2005.0  1er. Trimestre  Pampeana   \n",
      "29154  125283          1.0        2.0   Sí  2005.0  1er. Trimestre  Pampeana   \n",
      "\n",
      "      mas_500     aglomerado  pondera  ... deccfr ideccfr rdeccfr gdeccfr  \\\n",
      "29150       S  Gran La Plata    377.0  ...     05      05      04      04   \n",
      "29151       S  Gran La Plata    377.0  ...     05      05      04      04   \n",
      "29152       S  Gran La Plata    377.0  ...     05      05      04      04   \n",
      "29153       S  Gran La Plata    283.0  ...     10      10      10      09   \n",
      "29154       S  Gran La Plata    283.0  ...     10      10      10      09   \n",
      "\n",
      "      pdeccfr adeccfr pj1_1 pj2_1 pj3_1 idimpp  \n",
      "29150              04   0.0   0.0   0.0  00000  \n",
      "29151              04   0.0   0.0   0.0  00000  \n",
      "29152              04   0.0   0.0   0.0  00000  \n",
      "29153              09   0.0   0.0   0.0  20000  \n",
      "29154              09   0.0   0.0   0.0  21000  \n",
      "\n",
      "[5 rows x 176 columns]\n"
     ]
    }
   ],
   "source": [
    "df_pampeana2025 = df[df['REGION'] == 43]\n",
    "print(df_pampeana2025.head())\n",
    "\n",
    "statta_pampeana2005 = statta[statta['region'] ==\"Pampeana\"]\n",
    "print(statta_pampeana2005.head())"
   ]
  },
  {
   "cell_type": "code",
   "execution_count": 7,
   "id": "b28e02bf",
   "metadata": {},
   "outputs": [
    {
     "name": "stdout",
     "output_type": "stream",
     "text": [
      "                          codusu  ano4  trimestre  nro_hogar  componente  h15  \\\n",
      "0  TQRMNOVQVHJOLOCDEFKID00875778  2025          1          1           2    1   \n",
      "1  TQRMNOVQVHJOLOCDEFKID00875778  2025          1          1           3    0   \n",
      "2  TQRMNOVQVHJOLOCDEFKID00875778  2025          1          1           4    0   \n",
      "3  TQRMNOVQVHJOLOCDEFKID00875778  2025          1          1           5    0   \n",
      "4  TQRMNOUPQHLOLOCDEFKID00851757  2025          1          1           1    1   \n",
      "\n",
      "   region mas_500  aglomerado  pondera  ...  v21_03_m  v22_01_m v22_02_m  \\\n",
      "0      43       S           4      927  ...         0         0        0   \n",
      "1      43       S           4      927  ...         0         0        0   \n",
      "2      43       S           4      927  ...         0         0        0   \n",
      "3      43       S           4      927  ...         0         0        0   \n",
      "4      43       S           4     1294  ...         0         0        0   \n",
      "\n",
      "   v22_03_m  p_deccf  p_rdeccf  p_gdeccf  p_pdeccf  p_ideccf  p_adeccf  \n",
      "0         0      3.0       2.0       3.0       NaN       3.0       2.0  \n",
      "1         0      3.0       2.0       3.0       NaN       3.0       2.0  \n",
      "2         0      3.0       2.0       3.0       NaN       3.0       2.0  \n",
      "3         0      3.0       2.0       3.0       NaN       3.0       2.0  \n",
      "4         0      3.0       3.0       3.0       NaN       3.0       3.0  \n",
      "\n",
      "[5 rows x 235 columns]\n"
     ]
    }
   ],
   "source": [
    "df_pampeana2025.columns = df_pampeana2025.columns.str.lower()\n",
    "print(df_pampeana2025.head())"
   ]
  },
  {
   "cell_type": "code",
   "execution_count": null,
   "id": "ffa92bd4",
   "metadata": {},
   "outputs": [
    {
     "name": "stdout",
     "output_type": "stream",
     "text": [
      "Unique values in df_pampeana2025:\n",
      "ch04: [2 1]\n",
      "ch06: [ 25   7   4  -1  29  13   5  39  41   2  51  28  24  19  49  58  23  22\n",
      "  68  60  47  42  44  37  35  12  11  10  53  16  78  61  62  63  14   8\n",
      "  27  26  20  31  43  59  21  34  81  32  30  75  76  33  15  55  65  73\n",
      "  52  56  48  40  57  66  36  86  80  72  74  79  45  87  82  64  38   6\n",
      "   3  71   9  46  17  18   1  90  77  67  54  84  50  69  89  70  85  92\n",
      "  83  88  93  91  97 102  95 101  94  96]\n",
      "ch07: [1 5 2 4 3]\n",
      "ch08: [  4.   1.   2.   3.  12. 123.   9.  13.]\n",
      "nivel_ed: [4 1 7 5 6 3 2]\n",
      "estado: [1 4 3 2 0]\n",
      "cat_inac: [0 3 5 4 1 6 2 7]\n",
      "ipcf: [ 205600.    230000.    350000.   ...   36666.67 1037500.    616000.  ]\n",
      "\n",
      "Unique values in statta_pampeana2005:\n",
      "ch04: ['Varón', 'Mujer']\n",
      "Categories (2, object): ['Varón' < 'Mujer']\n",
      "ch06: [28.0, 30.0, 4.0, 66.0, 60.0, ..., '98 y más años', 90.0, 95.0, 94.0, 97.0]\n",
      "Length: 99\n",
      "Categories (99, object): ['Menos de 1 año' < 1.0 < 2.0 < 3.0 ... 95.0 < 96.0 < 97.0 < '98 y más años']\n",
      "ch07: ['Casado', 'Soltero', 'Unido', 'Viudo', 'Separado o divorciado', 'Ns./Nr.']\n",
      "Categories (6, object): ['Unido' < 'Casado' < 'Separado o divorciado' < 'Viudo' < 'Soltero' < 'Ns./Nr.']\n",
      "ch08: ['No paga ni le descuentan', 'Obra social (incluye PAMI)', 'Mutual/Prepaga/Servicio de emergencia', 'Obra social y mutual/prepaga/servicio de emer..., 'Obra social y planes y seguros públicos', 'Obra social, mutual/prepaga/servicio de emerg..., 'Planes y seguros públicos', 'Mutual/prepaga/servicio de emergencia/planes ..., 'Ns./Nr.']\n",
      "Categories (9, object): ['Obra social (incluye PAMI)' < 'Mutual/Prepaga/Servicio de emergencia' < 'Planes y seguros públicos' < 'No paga ni le descuentan' ... 'Obra social y mutual/prepaga/servicio de emer... < 'Obra social y planes y seguros públicos' < 'Mutual/prepaga/servicio de emergencia/planes ... < 'Obra social, mutual/prepaga/servicio de emerg...]\n",
      "nivel_ed: ['Primaria Completa', 'Superior Universitaria Completa', 'Sin instrucción', 'Secundaria Incompleta', 'Superior Universitaria Incompleta', 'Secundaria Completa', 'Primaria Incompleta (incluye educación especi...]\n",
      "Categories (7, object): ['Primaria Incompleta (incluye educación especi... < 'Primaria Completa' < 'Secundaria Incompleta' < 'Secundaria Completa' < 'Superior Universitaria Incompleta' < 'Superior Universitaria Completa' < 'Sin instrucción']\n",
      "estado: ['Ocupado', 'Menor de 10 años', 'Inactivo', 'Desocupado', 'Entrevista individual no realizada (no respue...]\n",
      "Categories (5, object): ['Entrevista individual no realizada (no respue... < 'Ocupado' < 'Desocupado' < 'Inactivo' < 'Menor de 10 años']\n",
      "cat_inac: [0.0, 'Menor de 6 años', 'Jubilado/pensionado', 'Estudiante', 'Ama de casa', 'Rentista', 'Discapacitado', 'Otros']\n",
      "Categories (8, object): [0.0 < 'Jubilado/pensionado' < 'Rentista' < 'Estudiante' < 'Ama de casa' < 'Menor de 6 años' < 'Discapacitado' < 'Otros']\n",
      "ipcf: [ 280.    1075.     400.    ...  682.5    274.625  615.   ]\n"
     ]
    }
   ],
   "source": [
    "columns_to_check = ['ch04', 'ch06', 'ch07', 'ch08', 'nivel_ed', 'estado', 'cat_inac', 'ipcf']\n",
    "\n",
    "print(\"Unique values in df_pampeana2025:\")\n",
    "for col in columns_to_check:\n",
    "    if col in df_pampeana2025.columns:\n",
    "        print(f\"{col}: {df_pampeana2025[col].unique()}\")\n",
    "    else:\n",
    "        print(f\"{col}: Column not found in df_pampeana2025\")\n",
    "\n",
    "print(\"\\nUnique values in statta_pampeana2005:\")\n",
    "for col in columns_to_check:\n",
    "    if col in statta_pampeana2005.columns:\n",
    "        print(f\"{col}: {statta_pampeana2005[col].unique()}\")\n",
    "    else:\n",
    "        print(f\"{col}: Column not found in statta_pampeana2005\")\n",
    "    "
   ]
  },
  {
   "cell_type": "code",
   "execution_count": 13,
   "id": "7154c22a",
   "metadata": {},
   "outputs": [
    {
     "name": "stderr",
     "output_type": "stream",
     "text": [
      "C:\\Users\\loloa\\AppData\\Local\\Temp\\ipykernel_13488\\3563480148.py:2: FutureWarning: Downcasting behavior in `replace` is deprecated and will be removed in a future version. To retain the old behavior, explicitly call `result.infer_objects(copy=False)`. To opt-in to the future behavior, set `pd.set_option('future.no_silent_downcasting', True)`\n",
      "  statta_pampeana2005['ch04'] = statta_pampeana2005['ch04'].replace({'Varón': 1, 'Mujer': 2})\n",
      "C:\\Users\\loloa\\AppData\\Local\\Temp\\ipykernel_13488\\3563480148.py:2: FutureWarning: The behavior of Series.replace (and DataFrame.replace) with CategoricalDtype is deprecated. In a future version, replace will only be used for cases that preserve the categories. To change the categories, use ser.cat.rename_categories instead.\n",
      "  statta_pampeana2005['ch04'] = statta_pampeana2005['ch04'].replace({'Varón': 1, 'Mujer': 2})\n",
      "C:\\Users\\loloa\\AppData\\Local\\Temp\\ipykernel_13488\\3563480148.py:2: SettingWithCopyWarning: \n",
      "A value is trying to be set on a copy of a slice from a DataFrame.\n",
      "Try using .loc[row_indexer,col_indexer] = value instead\n",
      "\n",
      "See the caveats in the documentation: https://pandas.pydata.org/pandas-docs/stable/user_guide/indexing.html#returning-a-view-versus-a-copy\n",
      "  statta_pampeana2005['ch04'] = statta_pampeana2005['ch04'].replace({'Varón': 1, 'Mujer': 2})\n"
     ]
    }
   ],
   "source": [
    "# el prompt: from ch04 in statta_pampeana2005 , transform \"Varón\" to 1 and \"Mujer\" to 2\n",
    "statta_pampeana2005['ch04'] = statta_pampeana2005['ch04'].replace({'Varón': 1, 'Mujer': 2})\n",
    "\n"
   ]
  }
 ],
 "metadata": {
  "kernelspec": {
   "display_name": "Python 3",
   "language": "python",
   "name": "python3"
  },
  "language_info": {
   "codemirror_mode": {
    "name": "ipython",
    "version": 3
   },
   "file_extension": ".py",
   "mimetype": "text/x-python",
   "name": "python",
   "nbconvert_exporter": "python",
   "pygments_lexer": "ipython3",
   "version": "3.11.9"
  }
 },
 "nbformat": 4,
 "nbformat_minor": 5
}
